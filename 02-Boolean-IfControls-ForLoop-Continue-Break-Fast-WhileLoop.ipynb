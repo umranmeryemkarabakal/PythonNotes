{
 "cells": [
  {
   "cell_type": "markdown",
   "id": "01a161a5",
   "metadata": {},
   "source": [
    "# Boolean"
   ]
  },
  {
   "cell_type": "raw",
   "id": "50bba49e",
   "metadata": {},
   "source": [
    "True veya False döndürür"
   ]
  },
  {
   "cell_type": "code",
   "execution_count": 1,
   "id": "57b2f67b",
   "metadata": {},
   "outputs": [
    {
     "data": {
      "text/plain": [
       "True"
      ]
     },
     "execution_count": 1,
     "metadata": {},
     "output_type": "execute_result"
    }
   ],
   "source": [
    "my_blooean = True\n",
    "my_blooean"
   ]
  },
  {
   "cell_type": "code",
   "execution_count": 2,
   "id": "e8d22c7f",
   "metadata": {},
   "outputs": [
    {
     "data": {
      "text/plain": [
       "bool"
      ]
     },
     "execution_count": 2,
     "metadata": {},
     "output_type": "execute_result"
    }
   ],
   "source": [
    "type(my_blooean)"
   ]
  },
  {
   "cell_type": "code",
   "execution_count": 3,
   "id": "543b7255",
   "metadata": {},
   "outputs": [
    {
     "data": {
      "text/plain": [
       "False"
      ]
     },
     "execution_count": 3,
     "metadata": {},
     "output_type": "execute_result"
    }
   ],
   "source": [
    "5<3"
   ]
  },
  {
   "cell_type": "code",
   "execution_count": 4,
   "id": "299f9258",
   "metadata": {},
   "outputs": [
    {
     "data": {
      "text/plain": [
       "True"
      ]
     },
     "execution_count": 4,
     "metadata": {},
     "output_type": "execute_result"
    }
   ],
   "source": [
    "6<19"
   ]
  },
  {
   "cell_type": "code",
   "execution_count": 5,
   "id": "230e6338",
   "metadata": {},
   "outputs": [
    {
     "data": {
      "text/plain": [
       "False"
      ]
     },
     "execution_count": 5,
     "metadata": {},
     "output_type": "execute_result"
    }
   ],
   "source": [
    "2<1 and 3>7"
   ]
  },
  {
   "cell_type": "code",
   "execution_count": 6,
   "id": "d1625e42",
   "metadata": {},
   "outputs": [
    {
     "data": {
      "text/plain": [
       "True"
      ]
     },
     "execution_count": 6,
     "metadata": {},
     "output_type": "execute_result"
    }
   ],
   "source": [
    "9<2 or 4<8"
   ]
  },
  {
   "cell_type": "code",
   "execution_count": 7,
   "id": "bc3505b6",
   "metadata": {},
   "outputs": [
    {
     "data": {
      "text/plain": [
       "False"
      ]
     },
     "execution_count": 7,
     "metadata": {},
     "output_type": "execute_result"
    }
   ],
   "source": [
    "x = 10\n",
    "y = 8\n",
    "x == y #x y'e eşitmidir"
   ]
  },
  {
   "cell_type": "code",
   "execution_count": 8,
   "id": "bf93b93e",
   "metadata": {},
   "outputs": [
    {
     "data": {
      "text/plain": [
       "True"
      ]
     },
     "execution_count": 8,
     "metadata": {},
     "output_type": "execute_result"
    }
   ],
   "source": [
    "x != y #x y'e eşit değil midir"
   ]
  },
  {
   "cell_type": "code",
   "execution_count": 9,
   "id": "4904b06f",
   "metadata": {},
   "outputs": [
    {
     "data": {
      "text/plain": [
       "False"
      ]
     },
     "execution_count": 9,
     "metadata": {},
     "output_type": "execute_result"
    }
   ],
   "source": [
    "70 in [30,40,50]"
   ]
  },
  {
   "cell_type": "code",
   "execution_count": 10,
   "id": "7b5b1be7",
   "metadata": {},
   "outputs": [
    {
     "data": {
      "text/plain": [
       "True"
      ]
     },
     "execution_count": 10,
     "metadata": {},
     "output_type": "execute_result"
    }
   ],
   "source": [
    "5 not in [20,25,27]"
   ]
  },
  {
   "cell_type": "code",
   "execution_count": 11,
   "id": "db4a5a75",
   "metadata": {},
   "outputs": [],
   "source": [
    "my_dictionary = {\"a\":10, \"b\":20, \"c\":30}"
   ]
  },
  {
   "cell_type": "code",
   "execution_count": 12,
   "id": "ed47b578",
   "metadata": {},
   "outputs": [
    {
     "data": {
      "text/plain": [
       "False"
      ]
     },
     "execution_count": 12,
     "metadata": {},
     "output_type": "execute_result"
    }
   ],
   "source": [
    "10 in my_dictionary"
   ]
  },
  {
   "cell_type": "code",
   "execution_count": 13,
   "id": "4ad05ed9",
   "metadata": {},
   "outputs": [
    {
     "data": {
      "text/plain": [
       "True"
      ]
     },
     "execution_count": 13,
     "metadata": {},
     "output_type": "execute_result"
    }
   ],
   "source": [
    "\"a\" in my_dictionary"
   ]
  },
  {
   "cell_type": "code",
   "execution_count": 14,
   "id": "e65ad12c",
   "metadata": {},
   "outputs": [
    {
     "data": {
      "text/plain": [
       "True"
      ]
     },
     "execution_count": 14,
     "metadata": {},
     "output_type": "execute_result"
    }
   ],
   "source": [
    "10 in (10,20,30)"
   ]
  },
  {
   "cell_type": "code",
   "execution_count": 15,
   "id": "d5628dc7",
   "metadata": {},
   "outputs": [
    {
     "name": "stdout",
     "output_type": "stream",
     "text": [
      "bir sayı giriniz:88\n"
     ]
    }
   ],
   "source": [
    "x = input(\"bir sayı giriniz:\")"
   ]
  },
  {
   "cell_type": "code",
   "execution_count": 16,
   "id": "32f6374a",
   "metadata": {},
   "outputs": [
    {
     "data": {
      "text/plain": [
       "False"
      ]
     },
     "execution_count": 16,
     "metadata": {},
     "output_type": "execute_result"
    }
   ],
   "source": [
    "int(x) <= 18"
   ]
  },
  {
   "cell_type": "markdown",
   "id": "dd7be414",
   "metadata": {},
   "source": [
    "# If Controls"
   ]
  },
  {
   "cell_type": "raw",
   "id": "8a14df0b",
   "metadata": {},
   "source": [
    "if : eğer"
   ]
  },
  {
   "cell_type": "code",
   "execution_count": 17,
   "id": "acb3be8a",
   "metadata": {},
   "outputs": [
    {
     "name": "stdout",
     "output_type": "stream",
     "text": [
      "en sevdiğin ders: \n",
      "a) kimya \n",
      "b)matematik \n",
      "c)fizik \n",
      "d)biyoloji \n",
      "e)tarih \n",
      "--mm\n"
     ]
    }
   ],
   "source": [
    "your_lesson = input(\"en sevdiğin ders: \\na) kimya \\nb)matematik \\nc)fizik \\nd)biyoloji \\ne)tarih \\n--\")"
   ]
  },
  {
   "cell_type": "code",
   "execution_count": 18,
   "id": "b78fbf1b",
   "metadata": {},
   "outputs": [
    {
     "name": "stdout",
     "output_type": "stream",
     "text": [
      "your_lesson\n",
      "yanlış yada eksik tuşladınız\n",
      "güzel secim\n"
     ]
    }
   ],
   "source": [
    "print(\"your_lesson\") \n",
    "if your_lesson == \"fizik\":\n",
    "    print(\"fizik\") #indentation: girinti : bir tab boşluk bırakılır\n",
    "elif your_lesson == \"matematik\":\n",
    "    print(\"matematik\")\n",
    "elif your_lesson == \"biyoloji\":\n",
    "    print(\"biyoloji\")\n",
    "elif your_lesson == \"kimya\":\n",
    "    print(\"kimya\")\n",
    "elif your_lesson == \"tarih\":\n",
    "    print(\"tarih\")\n",
    "else:\n",
    "    print(\"yanlış yada eksik tuşladınız\")\n",
    "###########-------------- if bloğu tamamlanmıştır\n",
    "print(\"güzel secim\")"
   ]
  },
  {
   "cell_type": "code",
   "execution_count": 2,
   "id": "35d2507d",
   "metadata": {},
   "outputs": [
    {
     "name": "stdout",
     "output_type": "stream",
     "text": [
      "superhero inputtor\n",
      "bad\n"
     ]
    }
   ],
   "source": [
    "superhero_list = [\"batman\",\"superman\",\"wonder women\",\"iron man\",\"spider man\",\"thor\",\"black widow\"]\n",
    "x = input(\"superhero input: \")\n",
    "if x in superhero_list:\n",
    "    print(\"great\")\n",
    "else:\n",
    "    print(\"bad\")"
   ]
  },
  {
   "cell_type": "markdown",
   "id": "98416008",
   "metadata": {},
   "source": [
    "# Loops"
   ]
  },
  {
   "cell_type": "markdown",
   "id": "35735632",
   "metadata": {},
   "source": [
    "# For Loop"
   ]
  },
  {
   "cell_type": "raw",
   "id": "aee73cff",
   "metadata": {},
   "source": [
    "misal : listedeki tüm elemanlar *için* tek tek döngüye gir"
   ]
  },
  {
   "cell_type": "code",
   "execution_count": 19,
   "id": "72e2a390",
   "metadata": {},
   "outputs": [],
   "source": [
    "my_list = [10,20,30,40,50,60,70]"
   ]
  },
  {
   "cell_type": "code",
   "execution_count": 20,
   "id": "1ab515eb",
   "metadata": {},
   "outputs": [
    {
     "name": "stdout",
     "output_type": "stream",
     "text": [
      "30\n",
      "60\n"
     ]
    }
   ],
   "source": [
    "for x in my_list:\n",
    "    if x % 6 == 0:\n",
    "        print(x)"
   ]
  },
  {
   "cell_type": "code",
   "execution_count": 21,
   "id": "da8630de",
   "metadata": {
    "scrolled": true
   },
   "outputs": [
    {
     "name": "stdout",
     "output_type": "stream",
     "text": [
      "m\n",
      "e\n",
      "r\n",
      "y\n",
      "e\n",
      "m\n",
      " \n",
      "k\n",
      "a\n",
      "r\n",
      "a\n",
      "b\n",
      "a\n",
      "k\n",
      "a\n",
      "l\n"
     ]
    }
   ],
   "source": [
    "my_string = \"meryem karabakal\"\n",
    "for x in my_string: #stringteki tüm elemanlar için tek tek uygula\n",
    "    print(x)"
   ]
  },
  {
   "cell_type": "raw",
   "id": "bbd688f0",
   "metadata": {},
   "source": [
    "list,tuple,set,dictionary çalışır"
   ]
  },
  {
   "cell_type": "code",
   "execution_count": 22,
   "id": "ccadeb24",
   "metadata": {},
   "outputs": [
    {
     "name": "stdout",
     "output_type": "stream",
     "text": [
      "1\n",
      "4\n",
      "7\n",
      "10\n"
     ]
    }
   ],
   "source": [
    "my_tuple = ((0,1,2),(3,4,5),(6,7,8),(9,10,11))\n",
    "for (x,y,z) in my_tuple:\n",
    "    print(y)"
   ]
  },
  {
   "cell_type": "code",
   "execution_count": 23,
   "id": "eb865614",
   "metadata": {},
   "outputs": [
    {
     "name": "stdout",
     "output_type": "stream",
     "text": [
      "k1\n",
      "k2\n",
      "k3\n",
      "k4\n"
     ]
    }
   ],
   "source": [
    "my_dictionary = {\"k1\":150, \"k2\":300, \"k3\":450, \"k4\":600}\n",
    "for element in my_dictionary:\n",
    "    print(element)"
   ]
  },
  {
   "cell_type": "code",
   "execution_count": 24,
   "id": "15295c35",
   "metadata": {},
   "outputs": [
    {
     "data": {
      "text/plain": [
       "dict_items([('k1', 150), ('k2', 300), ('k3', 450), ('k4', 600)])"
      ]
     },
     "execution_count": 24,
     "metadata": {},
     "output_type": "execute_result"
    }
   ],
   "source": [
    "my_dictionary.items()"
   ]
  },
  {
   "cell_type": "code",
   "execution_count": 25,
   "id": "7afa25e1",
   "metadata": {},
   "outputs": [
    {
     "data": {
      "text/plain": [
       "dict_values([150, 300, 450, 600])"
      ]
     },
     "execution_count": 25,
     "metadata": {},
     "output_type": "execute_result"
    }
   ],
   "source": [
    "my_dictionary.values()"
   ]
  },
  {
   "cell_type": "code",
   "execution_count": 26,
   "id": "6db20894",
   "metadata": {},
   "outputs": [
    {
     "name": "stdout",
     "output_type": "stream",
     "text": [
      "150\n",
      "300\n",
      "450\n",
      "600\n"
     ]
    }
   ],
   "source": [
    "for (key,value) in my_dictionary.items():\n",
    "    print(value)"
   ]
  },
  {
   "cell_type": "code",
   "execution_count": 27,
   "id": "e1beb645",
   "metadata": {},
   "outputs": [
    {
     "name": "stdout",
     "output_type": "stream",
     "text": [
      "150\n",
      "300\n",
      "450\n",
      "600\n"
     ]
    }
   ],
   "source": [
    "for num in my_dictionary.values(): #keys yazıp anahtarlara da erişebiliriz\n",
    "    print(num)"
   ]
  },
  {
   "cell_type": "markdown",
   "id": "ccfe32ab",
   "metadata": {},
   "source": [
    "# Continue-Break-Pass"
   ]
  },
  {
   "cell_type": "code",
   "execution_count": 3,
   "id": "207f25d6",
   "metadata": {},
   "outputs": [],
   "source": [
    "my_list = [10,20,30,40,50,60,70]"
   ]
  },
  {
   "cell_type": "code",
   "execution_count": 5,
   "id": "1bd432f5",
   "metadata": {},
   "outputs": [
    {
     "name": "stdout",
     "output_type": "stream",
     "text": [
      "10\n",
      "20\n",
      "30\n",
      "40\n",
      "okay\n"
     ]
    }
   ],
   "source": [
    "for number in my_list:\n",
    "    print(number)\n",
    "    if number == 40:\n",
    "        print(\"okay\")\n",
    "        break #break:kırmak, çıkarmak : breakı gördüğü an kod bloğunu terk eder işlem sonlanır"
   ]
  },
  {
   "cell_type": "code",
   "execution_count": 4,
   "id": "43638c1a",
   "metadata": {},
   "outputs": [
    {
     "name": "stdout",
     "output_type": "stream",
     "text": [
      "10\n",
      "20\n",
      "30\n",
      "50\n",
      "60\n",
      "70\n"
     ]
    }
   ],
   "source": [
    "for number in my_list:\n",
    "    if number == 40:\n",
    "        continue #continue:devam etmek:burada durur devam etmez mesela 40 sayısı için döngünün devamını çalıştırmaz ve sonraki sayıya geçip devam eder\n",
    "    print(number)"
   ]
  },
  {
   "cell_type": "code",
   "execution_count": 31,
   "id": "c51a4ccd",
   "metadata": {},
   "outputs": [],
   "source": [
    "for number in my_list:\n",
    "    pass #pass: pas geçmek: bitmiş kodda görülmez sonradan tamamlamak içindir"
   ]
  },
  {
   "cell_type": "markdown",
   "id": "e8dfce40",
   "metadata": {},
   "source": [
    "# While Loop"
   ]
  },
  {
   "cell_type": "raw",
   "id": "2c35f1f4",
   "metadata": {},
   "source": [
    "while : sırasında : ... olmaya devam ettiği sürece kod bloğunu çalıştır"
   ]
  },
  {
   "cell_type": "code",
   "execution_count": 32,
   "id": "f31933ca",
   "metadata": {},
   "outputs": [
    {
     "name": "stdout",
     "output_type": "stream",
     "text": [
      "while loop started\n",
      "0\n",
      "1\n",
      "2\n",
      "3\n",
      "4\n",
      "5\n",
      "6\n",
      "7\n",
      "8\n",
      "9\n",
      "while loop stoped\n"
     ]
    }
   ],
   "source": [
    "x=0\n",
    "print(\"while loop started\")\n",
    "while x<10:\n",
    "    print(x)\n",
    "    x = x+1\n",
    "print(\"while loop stoped\")"
   ]
  }
 ],
 "metadata": {
  "kernelspec": {
   "display_name": "Python 3 (ipykernel)",
   "language": "python",
   "name": "python3"
  },
  "language_info": {
   "codemirror_mode": {
    "name": "ipython",
    "version": 3
   },
   "file_extension": ".py",
   "mimetype": "text/x-python",
   "name": "python",
   "nbconvert_exporter": "python",
   "pygments_lexer": "ipython3",
   "version": "3.10.9"
  }
 },
 "nbformat": 4,
 "nbformat_minor": 5
}
