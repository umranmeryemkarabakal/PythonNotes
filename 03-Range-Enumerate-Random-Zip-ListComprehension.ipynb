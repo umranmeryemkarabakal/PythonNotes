{
 "cells": [
  {
   "cell_type": "raw",
   "id": "1f735b00",
   "metadata": {},
   "source": [
    "formatlı string "
   ]
  },
  {
   "cell_type": "code",
   "execution_count": 1,
   "id": "a8150d94",
   "metadata": {},
   "outputs": [],
   "source": [
    "my_list = [10,20,30,40,50]"
   ]
  },
  {
   "cell_type": "code",
   "execution_count": 2,
   "id": "97949833",
   "metadata": {
    "scrolled": true
   },
   "outputs": [
    {
     "name": "stdout",
     "output_type": "stream",
     "text": [
      "[10, 20, 30, 40, 50]\n",
      "my_list: [10, 20, 30, 40, 50]\n"
     ]
    }
   ],
   "source": [
    "print(my_list)\n",
    "print(f\"my_list: {my_list}\")"
   ]
  },
  {
   "cell_type": "code",
   "execution_count": 3,
   "id": "7631d2b1",
   "metadata": {},
   "outputs": [
    {
     "name": "stdout",
     "output_type": "stream",
     "text": [
      "enter name: dd\n",
      "welcome dd\n"
     ]
    }
   ],
   "source": [
    "name = input(\"enter name: \")\n",
    "print(\"welcome\",name)"
   ]
  },
  {
   "cell_type": "markdown",
   "id": "f01c91e2",
   "metadata": {},
   "source": [
    "# Gelişmiş Yerleşik Fonksiyonlar"
   ]
  },
  {
   "cell_type": "markdown",
   "id": "35e73237",
   "metadata": {},
   "source": [
    "# Range"
   ]
  },
  {
   "cell_type": "raw",
   "id": "8c730a66",
   "metadata": {},
   "source": [
    "0 dan 50 ye rakamları dizmek için range "
   ]
  },
  {
   "cell_type": "code",
   "execution_count": 4,
   "id": "1e370269",
   "metadata": {},
   "outputs": [
    {
     "data": {
      "text/plain": [
       "range(0, 50)"
      ]
     },
     "execution_count": 4,
     "metadata": {},
     "output_type": "execute_result"
    }
   ],
   "source": [
    "range(50)"
   ]
  },
  {
   "cell_type": "code",
   "execution_count": 5,
   "id": "4d21cfd1",
   "metadata": {},
   "outputs": [
    {
     "data": {
      "text/plain": [
       "[5, 7, 9, 11, 13, 15, 17, 19, 21, 23]"
      ]
     },
     "execution_count": 5,
     "metadata": {},
     "output_type": "execute_result"
    }
   ],
   "source": [
    "list(range(5,25,2))\n",
    "#5 ile başlar 25 ile sonlanır 5 dahil 25 dahil değildir ikişer ilerler"
   ]
  },
  {
   "cell_type": "code",
   "execution_count": 3,
   "id": "53b23f3a",
   "metadata": {},
   "outputs": [
    {
     "name": "stdout",
     "output_type": "stream",
     "text": [
      "0\n",
      "1\n",
      "2\n",
      "3\n",
      "4\n"
     ]
    }
   ],
   "source": [
    "my_list = [10,20,30,40,50]\n",
    "for x in range(len(my_list)):\n",
    "    print(x)"
   ]
  },
  {
   "cell_type": "markdown",
   "id": "74e0ff2c",
   "metadata": {},
   "source": [
    "# Enumerate "
   ]
  },
  {
   "cell_type": "raw",
   "id": "e4e822fd",
   "metadata": {},
   "source": [
    "listeyi (index,eleman) şeklinde yazdırmak için"
   ]
  },
  {
   "cell_type": "code",
   "execution_count": 7,
   "id": "c488aca3",
   "metadata": {
    "scrolled": false
   },
   "outputs": [
    {
     "name": "stdout",
     "output_type": "stream",
     "text": [
      "(0, 10)\n",
      "(1, 20)\n",
      "(2, 30)\n",
      "(3, 40)\n",
      "(4, 50)\n"
     ]
    }
   ],
   "source": [
    "for element in enumerate(my_list):\n",
    "    print(element)"
   ]
  },
  {
   "cell_type": "code",
   "execution_count": 8,
   "id": "7ab9e3c9",
   "metadata": {},
   "outputs": [
    {
     "name": "stdout",
     "output_type": "stream",
     "text": [
      "10\n",
      "20\n",
      "30\n",
      "40\n",
      "50\n"
     ]
    }
   ],
   "source": [
    "for (ix,value) in enumerate (my_list):\n",
    "    print(value)"
   ]
  },
  {
   "cell_type": "markdown",
   "id": "182c68c1",
   "metadata": {},
   "source": [
    "# Random"
   ]
  },
  {
   "cell_type": "raw",
   "id": "9ef98ef2",
   "metadata": {},
   "source": [
    "listedeki herhangi bir elemanı yazdırmak için"
   ]
  },
  {
   "cell_type": "code",
   "execution_count": 9,
   "id": "36ca6466",
   "metadata": {
    "scrolled": true
   },
   "outputs": [
    {
     "data": {
      "text/plain": [
       "20"
      ]
     },
     "execution_count": 9,
     "metadata": {},
     "output_type": "execute_result"
    }
   ],
   "source": [
    "from random import randint\n",
    "randint (20,50)"
   ]
  },
  {
   "cell_type": "code",
   "execution_count": 10,
   "id": "4719a951",
   "metadata": {},
   "outputs": [
    {
     "data": {
      "text/plain": [
       "40"
      ]
     },
     "execution_count": 10,
     "metadata": {},
     "output_type": "execute_result"
    }
   ],
   "source": [
    "from random import randint\n",
    "my_list[randint(0,len(my_list)-1)]"
   ]
  },
  {
   "cell_type": "raw",
   "id": "c92999ff",
   "metadata": {},
   "source": [
    "random sayı için"
   ]
  },
  {
   "cell_type": "code",
   "execution_count": 11,
   "id": "bdde705f",
   "metadata": {},
   "outputs": [
    {
     "data": {
      "text/plain": [
       "670"
      ]
     },
     "execution_count": 11,
     "metadata": {},
     "output_type": "execute_result"
    }
   ],
   "source": [
    "from random import randint\n",
    "randint(80,900)"
   ]
  },
  {
   "cell_type": "raw",
   "id": "2d24214a",
   "metadata": {},
   "source": [
    "listeyi karıştırmak için"
   ]
  },
  {
   "cell_type": "code",
   "execution_count": 12,
   "id": "2c145132",
   "metadata": {},
   "outputs": [
    {
     "data": {
      "text/plain": [
       "[10, 20, 30, 40, 50]"
      ]
     },
     "execution_count": 12,
     "metadata": {},
     "output_type": "execute_result"
    }
   ],
   "source": [
    "my_list"
   ]
  },
  {
   "cell_type": "code",
   "execution_count": 13,
   "id": "a70b96e5",
   "metadata": {},
   "outputs": [],
   "source": [
    "from random import shuffle\n",
    "shuffle(my_list)"
   ]
  },
  {
   "cell_type": "code",
   "execution_count": 14,
   "id": "9168cc6b",
   "metadata": {},
   "outputs": [
    {
     "data": {
      "text/plain": [
       "[30, 20, 10, 40, 50]"
      ]
     },
     "execution_count": 14,
     "metadata": {},
     "output_type": "execute_result"
    }
   ],
   "source": [
    "my_list"
   ]
  },
  {
   "cell_type": "markdown",
   "id": "7865faaa",
   "metadata": {},
   "source": [
    "# Zip"
   ]
  },
  {
   "cell_type": "raw",
   "id": "de71296c",
   "metadata": {},
   "source": [
    "zip:sıkıştırmak ziplemek"
   ]
  },
  {
   "cell_type": "code",
   "execution_count": 15,
   "id": "63671a38",
   "metadata": {},
   "outputs": [],
   "source": [
    "foodList = [\"apple\", \"banana\", \"melon\"]\n",
    "caloriesList = [100,150,200]\n",
    "dayList = [\"monday\", \"tuesday\", \"wednesday\"]"
   ]
  },
  {
   "cell_type": "code",
   "execution_count": 16,
   "id": "38280446",
   "metadata": {},
   "outputs": [],
   "source": [
    "zippedList = list(zip(foodList, caloriesList, dayList))"
   ]
  },
  {
   "cell_type": "code",
   "execution_count": 17,
   "id": "e2dbcbee",
   "metadata": {},
   "outputs": [
    {
     "data": {
      "text/plain": [
       "list"
      ]
     },
     "execution_count": 17,
     "metadata": {},
     "output_type": "execute_result"
    }
   ],
   "source": [
    "type(zippedList)"
   ]
  },
  {
   "cell_type": "code",
   "execution_count": 18,
   "id": "c9abcb64",
   "metadata": {},
   "outputs": [
    {
     "data": {
      "text/plain": [
       "[('apple', 100, 'monday'),\n",
       " ('banana', 150, 'tuesday'),\n",
       " ('melon', 200, 'wednesday')]"
      ]
     },
     "execution_count": 18,
     "metadata": {},
     "output_type": "execute_result"
    }
   ],
   "source": [
    "zippedList"
   ]
  },
  {
   "cell_type": "markdown",
   "id": "c34a5db6",
   "metadata": {},
   "source": [
    "# List Comprehension"
   ]
  },
  {
   "cell_type": "markdown",
   "id": "22e49217",
   "metadata": {},
   "source": [
    "newList = []\n",
    "myString = \"roseblack\"\n",
    "for x in myString:\n",
    "    newList.append(x)\n",
    "print (newList)"
   ]
  },
  {
   "cell_type": "code",
   "execution_count": 21,
   "id": "36a08858",
   "metadata": {},
   "outputs": [],
   "source": [
    "newList = [element*2 for element in myString]"
   ]
  },
  {
   "cell_type": "code",
   "execution_count": 22,
   "id": "cffd6d55",
   "metadata": {},
   "outputs": [
    {
     "data": {
      "text/plain": [
       "['rr', 'oo', 'ss', 'ee', 'bb', 'll', 'aa', 'cc', 'kk']"
      ]
     },
     "execution_count": 22,
     "metadata": {},
     "output_type": "execute_result"
    }
   ],
   "source": [
    "newList"
   ]
  }
 ],
 "metadata": {
  "kernelspec": {
   "display_name": "Python 3 (ipykernel)",
   "language": "python",
   "name": "python3"
  },
  "language_info": {
   "codemirror_mode": {
    "name": "ipython",
    "version": 3
   },
   "file_extension": ".py",
   "mimetype": "text/x-python",
   "name": "python",
   "nbconvert_exporter": "python",
   "pygments_lexer": "ipython3",
   "version": "3.10.9"
  }
 },
 "nbformat": 4,
 "nbformat_minor": 5
}
