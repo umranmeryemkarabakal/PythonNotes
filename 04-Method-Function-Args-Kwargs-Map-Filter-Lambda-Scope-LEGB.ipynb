{
 "cells": [
  {
   "cell_type": "markdown",
   "id": "8067c208",
   "metadata": {},
   "source": [
    "# Method vs Function"
   ]
  },
  {
   "cell_type": "code",
   "execution_count": 1,
   "id": "1ebb73b7",
   "metadata": {},
   "outputs": [],
   "source": [
    "my_name = \"meryem\""
   ]
  },
  {
   "cell_type": "code",
   "execution_count": 2,
   "id": "c8caa0c4",
   "metadata": {},
   "outputs": [
    {
     "data": {
      "text/plain": [
       "'MERYEM'"
      ]
     },
     "execution_count": 2,
     "metadata": {},
     "output_type": "execute_result"
    }
   ],
   "source": [
    "my_name.upper()"
   ]
  },
  {
   "cell_type": "code",
   "execution_count": 3,
   "id": "60e36c8e",
   "metadata": {},
   "outputs": [],
   "source": [
    "my_names = my_name.upper()"
   ]
  },
  {
   "cell_type": "code",
   "execution_count": 4,
   "id": "94b57f7d",
   "metadata": {},
   "outputs": [
    {
     "data": {
      "text/plain": [
       "'MERYEM'"
      ]
     },
     "execution_count": 4,
     "metadata": {},
     "output_type": "execute_result"
    }
   ],
   "source": [
    "my_names"
   ]
  },
  {
   "cell_type": "code",
   "execution_count": 5,
   "id": "1f4bcab4",
   "metadata": {},
   "outputs": [
    {
     "name": "stdout",
     "output_type": "stream",
     "text": [
      "Help on built-in function upper:\n",
      "\n",
      "upper() method of builtins.str instance\n",
      "    Return a copy of the string converted to uppercase.\n",
      "\n"
     ]
    }
   ],
   "source": [
    "help(my_name.upper) #return: döndürmek "
   ]
  },
  {
   "cell_type": "markdown",
   "id": "056b8bb8",
   "metadata": {},
   "source": [
    "# function"
   ]
  },
  {
   "cell_type": "code",
   "execution_count": 6,
   "id": "f3bb151e",
   "metadata": {},
   "outputs": [],
   "source": [
    "#functions\n",
    "#kodu toplar ve kod blokları olarak görev yapar sonra istediğimizde tekrar kullanılabilir\n",
    "#girdi alabilir çıktı  verebilir\n",
    "\n",
    "#def : define : tanımlamak"
   ]
  },
  {
   "cell_type": "code",
   "execution_count": 7,
   "id": "f5b15c88",
   "metadata": {},
   "outputs": [],
   "source": [
    "def hello_python():\n",
    "    print (\"hello\")\n",
    "    print (\"python\")"
   ]
  },
  {
   "cell_type": "raw",
   "id": "8bda6156",
   "metadata": {},
   "source": [
    "#hello python yazılınca böyle bir fonksiyonun olduğunu söyler\n",
    "#hello python() yazılınca aşağısındakiler çalışır"
   ]
  },
  {
   "cell_type": "code",
   "execution_count": 8,
   "id": "8236d738",
   "metadata": {},
   "outputs": [
    {
     "data": {
      "text/plain": [
       "<function __main__.hello_python()>"
      ]
     },
     "execution_count": 8,
     "metadata": {},
     "output_type": "execute_result"
    }
   ],
   "source": [
    "hello_python"
   ]
  },
  {
   "cell_type": "code",
   "execution_count": 9,
   "id": "fc4db99f",
   "metadata": {},
   "outputs": [
    {
     "name": "stdout",
     "output_type": "stream",
     "text": [
      "hello\n",
      "python\n"
     ]
    }
   ],
   "source": [
    "hello_python()"
   ]
  },
  {
   "cell_type": "raw",
   "id": "e5468048",
   "metadata": {},
   "source": [
    "girdi alabilir (input)"
   ]
  },
  {
   "cell_type": "code",
   "execution_count": 10,
   "id": "91c51f0b",
   "metadata": {},
   "outputs": [],
   "source": [
    "def hello_name(name):\n",
    "    print(\"hello\")\n",
    "    print(name)\n",
    "#name bir parametredir bir değişkendir nasıl count kullanırken \"a\" harfi diye parantez içine yazarız bu da aynı böyledir."
   ]
  },
  {
   "cell_type": "code",
   "execution_count": 11,
   "id": "91390c40",
   "metadata": {},
   "outputs": [
    {
     "name": "stdout",
     "output_type": "stream",
     "text": [
      "hello\n",
      "meryem\n"
     ]
    }
   ],
   "source": [
    "hello_name(\"meryem\")"
   ]
  },
  {
   "cell_type": "code",
   "execution_count": 12,
   "id": "a868ba03",
   "metadata": {},
   "outputs": [],
   "source": [
    "def hello_surname(surname=\"karabakal\"):\n",
    "    print(\"hello\")\n",
    "    print(surname)"
   ]
  },
  {
   "cell_type": "code",
   "execution_count": 13,
   "id": "3015e555",
   "metadata": {},
   "outputs": [
    {
     "name": "stdout",
     "output_type": "stream",
     "text": [
      "hello\n",
      "kara\n",
      "hello\n",
      "karabakal\n"
     ]
    }
   ],
   "source": [
    "hello_surname(\"kara\")\n",
    "hello_surname()"
   ]
  },
  {
   "cell_type": "code",
   "execution_count": 14,
   "id": "bfa24b79",
   "metadata": {},
   "outputs": [],
   "source": [
    "def sum_ex(num1,num2):\n",
    "    num3 = num1 +num2 \n",
    "    print(num3)"
   ]
  },
  {
   "cell_type": "code",
   "execution_count": 15,
   "id": "cf95aafb",
   "metadata": {},
   "outputs": [
    {
     "name": "stdout",
     "output_type": "stream",
     "text": [
      "100\n"
     ]
    }
   ],
   "source": [
    "sum_ex(99,1)"
   ]
  },
  {
   "cell_type": "code",
   "execution_count": 16,
   "id": "d8ebffc4",
   "metadata": {},
   "outputs": [
    {
     "name": "stdout",
     "output_type": "stream",
     "text": [
      "100\n"
     ]
    }
   ],
   "source": [
    "x = sum_ex(99,1)"
   ]
  },
  {
   "cell_type": "code",
   "execution_count": 17,
   "id": "44677747",
   "metadata": {},
   "outputs": [
    {
     "name": "stdout",
     "output_type": "stream",
     "text": [
      "None\n"
     ]
    },
    {
     "data": {
      "text/plain": [
       "NoneType"
      ]
     },
     "execution_count": 17,
     "metadata": {},
     "output_type": "execute_result"
    }
   ],
   "source": [
    "x\n",
    "print(x)\n",
    "type(x)"
   ]
  },
  {
   "cell_type": "code",
   "execution_count": 18,
   "id": "afe584a1",
   "metadata": {},
   "outputs": [],
   "source": [
    "#x değeri boş çünkü bu fonksiyon bir şeyi döndürmüyor işi sadece yazdırmak"
   ]
  },
  {
   "cell_type": "code",
   "execution_count": 19,
   "id": "008edac9",
   "metadata": {},
   "outputs": [],
   "source": [
    "def return_sum_ex(num1,num2):\n",
    "    num3 = num1 +num2 \n",
    "    return num3"
   ]
  },
  {
   "cell_type": "code",
   "execution_count": 20,
   "id": "3362615c",
   "metadata": {},
   "outputs": [
    {
     "data": {
      "text/plain": [
       "100"
      ]
     },
     "execution_count": 20,
     "metadata": {},
     "output_type": "execute_result"
    }
   ],
   "source": [
    "return_sum_ex(99,1)"
   ]
  },
  {
   "cell_type": "code",
   "execution_count": 21,
   "id": "d980d3c8",
   "metadata": {},
   "outputs": [],
   "source": [
    "y = return_sum_ex(99,1)"
   ]
  },
  {
   "cell_type": "code",
   "execution_count": 22,
   "id": "ca3cc0ee",
   "metadata": {},
   "outputs": [
    {
     "data": {
      "text/plain": [
       "100"
      ]
     },
     "execution_count": 22,
     "metadata": {},
     "output_type": "execute_result"
    }
   ],
   "source": [
    "y"
   ]
  },
  {
   "cell_type": "code",
   "execution_count": 23,
   "id": "95a519c6",
   "metadata": {},
   "outputs": [
    {
     "data": {
      "text/plain": [
       "int"
      ]
     },
     "execution_count": 23,
     "metadata": {},
     "output_type": "execute_result"
    }
   ],
   "source": [
    "type(y)"
   ]
  },
  {
   "cell_type": "code",
   "execution_count": 24,
   "id": "a41eeaba",
   "metadata": {},
   "outputs": [],
   "source": [
    "def return_sum_ex(num1,num2):\n",
    "    num3 = num1 +num2 \n",
    "    print (num3)\n",
    "    return num3\n",
    "    print(num2)\n",
    "#returndan sonra işlem biter sonrakiler okunmaz"
   ]
  },
  {
   "cell_type": "code",
   "execution_count": 25,
   "id": "7cae10a7",
   "metadata": {},
   "outputs": [
    {
     "name": "stdout",
     "output_type": "stream",
     "text": [
      "100\n"
     ]
    }
   ],
   "source": [
    "z = return_sum_ex(99,1)"
   ]
  },
  {
   "cell_type": "markdown",
   "id": "0d6f31c1",
   "metadata": {},
   "source": [
    "# Args, Kwarg "
   ]
  },
  {
   "cell_type": "raw",
   "id": "9e4627f5",
   "metadata": {},
   "source": [
    "(arguments, key word arguments)\n",
    "argümanlar name gibi num1 gibi veasire"
   ]
  },
  {
   "cell_type": "raw",
   "id": "7ca51fd1",
   "metadata": {},
   "source": [
    "args kullanıcının sayısı belli olmayan argüman gireceği zaman kullanılır"
   ]
  },
  {
   "cell_type": "code",
   "execution_count": 26,
   "id": "94df0217",
   "metadata": {},
   "outputs": [],
   "source": [
    " def args_sum(*args): #args yazmaya gerek yoktur ama yazılmalıdır\n",
    "        return sum(args) #pythonun kendi toplama fonksiyonu"
   ]
  },
  {
   "cell_type": "code",
   "execution_count": 27,
   "id": "ae6db168",
   "metadata": {},
   "outputs": [
    {
     "data": {
      "text/plain": [
       "45"
      ]
     },
     "execution_count": 27,
     "metadata": {},
     "output_type": "execute_result"
    }
   ],
   "source": [
    "args_sum(7,8,9,6,5,4,3,2,1)"
   ]
  },
  {
   "cell_type": "code",
   "execution_count": 28,
   "id": "c4e7f6ff",
   "metadata": {},
   "outputs": [],
   "source": [
    "def args_ex(*args):\n",
    "    print(args)"
   ]
  },
  {
   "cell_type": "code",
   "execution_count": 29,
   "id": "42e9bb1a",
   "metadata": {},
   "outputs": [
    {
     "name": "stdout",
     "output_type": "stream",
     "text": [
      "(444, 666, 777, 888)\n"
     ]
    }
   ],
   "source": [
    "args_ex(444,666,777,888)"
   ]
  },
  {
   "cell_type": "raw",
   "id": "288e3c8e",
   "metadata": {},
   "source": [
    "kwargs bizim için sözlük oluşturur"
   ]
  },
  {
   "cell_type": "code",
   "execution_count": 30,
   "id": "7952d2de",
   "metadata": {},
   "outputs": [],
   "source": [
    "def kwargs_ex(**kwargs): #kwargs yazmaya gerek yoktur ama yazmak gerekir\n",
    "    print(kwargs)"
   ]
  },
  {
   "cell_type": "code",
   "execution_count": 31,
   "id": "c29e961e",
   "metadata": {},
   "outputs": [
    {
     "name": "stdout",
     "output_type": "stream",
     "text": [
      "{'apple': 100, 'banana': 150, 'melon': 200}\n"
     ]
    }
   ],
   "source": [
    "kwargs_ex(apple=100,banana=150,melon=200)"
   ]
  },
  {
   "cell_type": "markdown",
   "id": "9fbc405c",
   "metadata": {},
   "source": [
    "# Map"
   ]
  },
  {
   "cell_type": "code",
   "execution_count": 32,
   "id": "3e93e1ff",
   "metadata": {},
   "outputs": [],
   "source": [
    "def divide_number(number):\n",
    "    return number /2\n",
    "    \n",
    "my_list = [4,5,88,3,59,23]\n",
    "result_list = []\n",
    "\n",
    "for x in my_list:\n",
    "    result_list.append(divide_number(x))"
   ]
  },
  {
   "cell_type": "code",
   "execution_count": 33,
   "id": "8558b978",
   "metadata": {},
   "outputs": [
    {
     "data": {
      "text/plain": [
       "[2.0, 2.5, 44.0, 1.5, 29.5, 11.5]"
      ]
     },
     "execution_count": 33,
     "metadata": {},
     "output_type": "execute_result"
    }
   ],
   "source": [
    "result_list"
   ]
  },
  {
   "cell_type": "code",
   "execution_count": 34,
   "id": "d86a4c50",
   "metadata": {},
   "outputs": [],
   "source": [
    "x=0\n",
    "while x<6:\n",
    "    result_list.append(divide_number(my_list[x]))\n",
    "    x = x+1"
   ]
  },
  {
   "cell_type": "code",
   "execution_count": 35,
   "id": "4594968c",
   "metadata": {},
   "outputs": [
    {
     "data": {
      "text/plain": [
       "[2.0, 2.5, 44.0, 1.5, 29.5, 11.5, 2.0, 2.5, 44.0, 1.5, 29.5, 11.5]"
      ]
     },
     "execution_count": 35,
     "metadata": {},
     "output_type": "execute_result"
    }
   ],
   "source": [
    "result_list"
   ]
  },
  {
   "cell_type": "code",
   "execution_count": 36,
   "id": "a3a22b8b",
   "metadata": {},
   "outputs": [
    {
     "data": {
      "text/plain": [
       "<map at 0x19bbc32fdc0>"
      ]
     },
     "execution_count": 36,
     "metadata": {},
     "output_type": "execute_result"
    }
   ],
   "source": [
    "map(divide_number,my_list)"
   ]
  },
  {
   "cell_type": "code",
   "execution_count": 37,
   "id": "231457fc",
   "metadata": {},
   "outputs": [
    {
     "data": {
      "text/plain": [
       "[2.0, 2.5, 44.0, 1.5, 29.5, 11.5]"
      ]
     },
     "execution_count": 37,
     "metadata": {},
     "output_type": "execute_result"
    }
   ],
   "source": [
    "list(map(divide_number,my_list)) #result list oluşturmaya gerek yoktur"
   ]
  },
  {
   "cell_type": "code",
   "execution_count": 38,
   "id": "b0edebd5",
   "metadata": {},
   "outputs": [
    {
     "data": {
      "text/plain": [
       "True"
      ]
     },
     "execution_count": 38,
     "metadata": {},
     "output_type": "execute_result"
    }
   ],
   "source": [
    "def control_string(string):\n",
    "    return \"meryem\" in string\n",
    "\n",
    "control_string(\"meryem karabakal\")"
   ]
  },
  {
   "cell_type": "code",
   "execution_count": 39,
   "id": "076c18e5",
   "metadata": {},
   "outputs": [
    {
     "data": {
      "text/plain": [
       "[True, True, False, False]"
      ]
     },
     "execution_count": 39,
     "metadata": {},
     "output_type": "execute_result"
    }
   ],
   "source": [
    "my_string_list = [\"meryem\", \"meryem karabakal\", \"karabakal\", \"rose\"]\n",
    "list(map(control_string,my_string_list))"
   ]
  },
  {
   "cell_type": "markdown",
   "id": "495a7531",
   "metadata": {},
   "source": [
    "# Filter"
   ]
  },
  {
   "cell_type": "raw",
   "id": "8bbe279a",
   "metadata": {},
   "source": [
    "filtre içindir fonksiyon çalıştırıldığında listedeki sadece true döndürülenleri yazdırmak içindir"
   ]
  },
  {
   "cell_type": "code",
   "execution_count": 40,
   "id": "8a40d7e4",
   "metadata": {},
   "outputs": [
    {
     "data": {
      "text/plain": [
       "<filter at 0x19bbc32f130>"
      ]
     },
     "execution_count": 40,
     "metadata": {},
     "output_type": "execute_result"
    }
   ],
   "source": [
    "filter(control_string,my_string_list)"
   ]
  },
  {
   "cell_type": "code",
   "execution_count": 41,
   "id": "8ff9c23c",
   "metadata": {},
   "outputs": [
    {
     "data": {
      "text/plain": [
       "['meryem', 'meryem karabakal']"
      ]
     },
     "execution_count": 41,
     "metadata": {},
     "output_type": "execute_result"
    }
   ],
   "source": [
    "list(filter(control_string,my_string_list))"
   ]
  },
  {
   "cell_type": "markdown",
   "id": "b71239d3",
   "metadata": {},
   "source": [
    "# Lambda"
   ]
  },
  {
   "cell_type": "raw",
   "id": "93a2ea27",
   "metadata": {},
   "source": [
    "sadece tek seferlik kullanılacak değişkenler içindir pratiklik sağlar"
   ]
  },
  {
   "cell_type": "code",
   "execution_count": 42,
   "id": "98b656f3",
   "metadata": {},
   "outputs": [],
   "source": [
    "my_lambda = lambda num :num*5/2"
   ]
  },
  {
   "cell_type": "code",
   "execution_count": 43,
   "id": "a3e9a05a",
   "metadata": {},
   "outputs": [
    {
     "data": {
      "text/plain": [
       "function"
      ]
     },
     "execution_count": 43,
     "metadata": {},
     "output_type": "execute_result"
    }
   ],
   "source": [
    "type(my_lambda)"
   ]
  },
  {
   "cell_type": "code",
   "execution_count": 44,
   "id": "f34c1d1f",
   "metadata": {},
   "outputs": [
    {
     "data": {
      "text/plain": [
       "95.0"
      ]
     },
     "execution_count": 44,
     "metadata": {},
     "output_type": "execute_result"
    }
   ],
   "source": [
    "my_lambda(38)"
   ]
  },
  {
   "cell_type": "code",
   "execution_count": 45,
   "id": "8fa87c5e",
   "metadata": {},
   "outputs": [
    {
     "data": {
      "text/plain": [
       "[25.0, 50.0, 75.0, 100.0, 125.0, 150.0]"
      ]
     },
     "execution_count": 45,
     "metadata": {},
     "output_type": "execute_result"
    }
   ],
   "source": [
    "my_new_list = [10,20,30,40,50,60]\n",
    "list(map(lambda x: x*5/2,my_new_list))"
   ]
  },
  {
   "cell_type": "markdown",
   "id": "b827dbd6",
   "metadata": {},
   "source": [
    "# Scope"
   ]
  },
  {
   "cell_type": "raw",
   "id": "179301c0",
   "metadata": {},
   "source": [
    "scope : kapsam "
   ]
  },
  {
   "cell_type": "code",
   "execution_count": 46,
   "id": "c66fc058",
   "metadata": {},
   "outputs": [],
   "source": [
    "x=20\n",
    "def sum_multiply(num):\n",
    "    x = 10\n",
    "    print(num*x)"
   ]
  },
  {
   "cell_type": "code",
   "execution_count": 47,
   "id": "9837a109",
   "metadata": {},
   "outputs": [
    {
     "name": "stdout",
     "output_type": "stream",
     "text": [
      "300\n"
     ]
    }
   ],
   "source": [
    "sum_multiply(30)"
   ]
  },
  {
   "cell_type": "code",
   "execution_count": 48,
   "id": "aed2e4da",
   "metadata": {},
   "outputs": [
    {
     "data": {
      "text/plain": [
       "20"
      ]
     },
     "execution_count": 48,
     "metadata": {},
     "output_type": "execute_result"
    }
   ],
   "source": [
    "x"
   ]
  },
  {
   "cell_type": "code",
   "execution_count": 49,
   "id": "3c5e07f3",
   "metadata": {},
   "outputs": [],
   "source": [
    "y=20\n",
    "def sum_multiply(num):\n",
    "    print(num*y)"
   ]
  },
  {
   "cell_type": "code",
   "execution_count": 50,
   "id": "c693fd64",
   "metadata": {},
   "outputs": [
    {
     "name": "stdout",
     "output_type": "stream",
     "text": [
      "600\n"
     ]
    }
   ],
   "source": [
    "sum_multiply(30)"
   ]
  },
  {
   "cell_type": "code",
   "execution_count": 51,
   "id": "ee598352",
   "metadata": {},
   "outputs": [
    {
     "data": {
      "text/plain": [
       "20"
      ]
     },
     "execution_count": 51,
     "metadata": {},
     "output_type": "execute_result"
    }
   ],
   "source": [
    "x"
   ]
  },
  {
   "cell_type": "markdown",
   "id": "9269b99f",
   "metadata": {},
   "source": [
    "# LEGB"
   ]
  },
  {
   "cell_type": "raw",
   "id": "01f5a431",
   "metadata": {},
   "source": [
    "L=>local:yerel\n",
    "E=>enclosing:çevreleyen,kapsayan\n",
    "G=>global:küresel\n",
    "B=>built-in:yerleşik"
   ]
  },
  {
   "cell_type": "code",
   "execution_count": 52,
   "id": "a2c482f7",
   "metadata": {},
   "outputs": [],
   "source": [
    "#global\n",
    "my_string = \"meryem\"\n",
    "\n",
    "def my_function():\n",
    "    #enclosing\n",
    "    my_string = \"meryem2\"\n",
    "    print(my_string)\n",
    "    \n",
    "    def my_function2():\n",
    "        #local\n",
    "        my_string = \"meryem3\" # yazarsak myFunciton 'meryem' yazdırır \n",
    "        print(my_string) \n",
    "    my_function2() #bu satır yazılmazsa my_function2 çalışmaz\n",
    "#globalde de bulamazsa phytonda aratır"
   ]
  },
  {
   "cell_type": "code",
   "execution_count": 53,
   "id": "1289b689",
   "metadata": {},
   "outputs": [
    {
     "name": "stdout",
     "output_type": "stream",
     "text": [
      "meryem2\n",
      "meryem3\n"
     ]
    }
   ],
   "source": [
    "my_function()"
   ]
  },
  {
   "cell_type": "raw",
   "id": "cf1c09c3",
   "metadata": {},
   "source": [
    "global y'nin değerini değiştirmek istersek"
   ]
  },
  {
   "cell_type": "code",
   "execution_count": 54,
   "id": "42fadfd7",
   "metadata": {},
   "outputs": [],
   "source": [
    "y = 10\n",
    "\n",
    "def changeY():\n",
    "    global y\n",
    "    print(y)\n",
    "    y = 5\n",
    "    print (y)"
   ]
  },
  {
   "cell_type": "code",
   "execution_count": 55,
   "id": "a51e9852",
   "metadata": {},
   "outputs": [
    {
     "name": "stdout",
     "output_type": "stream",
     "text": [
      "10\n",
      "5\n"
     ]
    }
   ],
   "source": [
    "changeY()"
   ]
  },
  {
   "cell_type": "code",
   "execution_count": 56,
   "id": "eef861dc",
   "metadata": {},
   "outputs": [
    {
     "data": {
      "text/plain": [
       "5"
      ]
     },
     "execution_count": 56,
     "metadata": {},
     "output_type": "execute_result"
    }
   ],
   "source": [
    "y"
   ]
  }
 ],
 "metadata": {
  "kernelspec": {
   "display_name": "Python 3 (ipykernel)",
   "language": "python",
   "name": "python3"
  },
  "language_info": {
   "codemirror_mode": {
    "name": "ipython",
    "version": 3
   },
   "file_extension": ".py",
   "mimetype": "text/x-python",
   "name": "python",
   "nbconvert_exporter": "python",
   "pygments_lexer": "ipython3",
   "version": "3.12.4"
  }
 },
 "nbformat": 4,
 "nbformat_minor": 5
}
