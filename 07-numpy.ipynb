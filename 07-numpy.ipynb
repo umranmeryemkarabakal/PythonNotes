{
 "cells": [
  {
   "cell_type": "raw",
   "id": "0be4f6c1",
   "metadata": {},
   "source": [
    "numpy hesaplama kütüphanesidir \n",
    "numpy'ı indirmek için\n",
    "conda install numpy\n",
    "pip install numpy"
   ]
  },
  {
   "cell_type": "code",
   "execution_count": 1,
   "id": "1d384aea",
   "metadata": {},
   "outputs": [],
   "source": [
    "import numpy as np #kısaltma olarak istediğimizi genellikle np yazılır"
   ]
  },
  {
   "cell_type": "markdown",
   "id": "2ec606f2",
   "metadata": {},
   "source": [
    "# numpy array"
   ]
  },
  {
   "cell_type": "code",
   "execution_count": 2,
   "id": "6ae9abf9",
   "metadata": {},
   "outputs": [
    {
     "data": {
      "text/plain": [
       "list"
      ]
     },
     "execution_count": 2,
     "metadata": {},
     "output_type": "execute_result"
    }
   ],
   "source": [
    "my_list = [10,20,30,40]\n",
    "type(my_list)"
   ]
  },
  {
   "cell_type": "code",
   "execution_count": 3,
   "id": "bddd23ed",
   "metadata": {},
   "outputs": [
    {
     "data": {
      "text/plain": [
       "array([10, 20, 30, 40])"
      ]
     },
     "execution_count": 3,
     "metadata": {},
     "output_type": "execute_result"
    }
   ],
   "source": [
    "np.array(my_list)"
   ]
  },
  {
   "cell_type": "code",
   "execution_count": 4,
   "id": "b8c7f1f0",
   "metadata": {},
   "outputs": [],
   "source": [
    "my_numpy_array = np.array(my_list)"
   ]
  },
  {
   "cell_type": "code",
   "execution_count": 5,
   "id": "53ce6524",
   "metadata": {},
   "outputs": [
    {
     "data": {
      "text/plain": [
       "numpy.ndarray"
      ]
     },
     "execution_count": 5,
     "metadata": {},
     "output_type": "execute_result"
    }
   ],
   "source": [
    "type(my_numpy_array)"
   ]
  },
  {
   "cell_type": "code",
   "execution_count": 6,
   "id": "54d41788",
   "metadata": {},
   "outputs": [
    {
     "data": {
      "text/plain": [
       "array([10, 20, 30, 40])"
      ]
     },
     "execution_count": 6,
     "metadata": {},
     "output_type": "execute_result"
    }
   ],
   "source": [
    "my_numpy_array"
   ]
  },
  {
   "cell_type": "code",
   "execution_count": 7,
   "id": "04197280",
   "metadata": {},
   "outputs": [
    {
     "data": {
      "text/plain": [
       "10"
      ]
     },
     "execution_count": 7,
     "metadata": {},
     "output_type": "execute_result"
    }
   ],
   "source": [
    "my_numpy_array[0]"
   ]
  },
  {
   "cell_type": "code",
   "execution_count": 8,
   "id": "f5d3a188",
   "metadata": {},
   "outputs": [
    {
     "data": {
      "text/plain": [
       "40"
      ]
     },
     "execution_count": 8,
     "metadata": {},
     "output_type": "execute_result"
    }
   ],
   "source": [
    "my_numpy_array[-1]"
   ]
  },
  {
   "cell_type": "code",
   "execution_count": 9,
   "id": "160bcfbf",
   "metadata": {},
   "outputs": [],
   "source": [
    "my_numpy_array[0] = 100"
   ]
  },
  {
   "cell_type": "code",
   "execution_count": 10,
   "id": "2d15a067",
   "metadata": {},
   "outputs": [
    {
     "data": {
      "text/plain": [
       "array([100,  20,  30,  40])"
      ]
     },
     "execution_count": 10,
     "metadata": {},
     "output_type": "execute_result"
    }
   ],
   "source": [
    "my_numpy_array"
   ]
  },
  {
   "cell_type": "code",
   "execution_count": 11,
   "id": "f4cfe2b3",
   "metadata": {},
   "outputs": [
    {
     "data": {
      "text/plain": [
       "100"
      ]
     },
     "execution_count": 11,
     "metadata": {},
     "output_type": "execute_result"
    }
   ],
   "source": [
    "my_numpy_array.max() #maximum değer"
   ]
  },
  {
   "cell_type": "code",
   "execution_count": 12,
   "id": "f89cc6ea",
   "metadata": {},
   "outputs": [
    {
     "data": {
      "text/plain": [
       "47.5"
      ]
     },
     "execution_count": 12,
     "metadata": {},
     "output_type": "execute_result"
    }
   ],
   "source": [
    "my_numpy_array.mean() #ortalamasını alır"
   ]
  },
  {
   "cell_type": "code",
   "execution_count": 13,
   "id": "6fb962b1",
   "metadata": {},
   "outputs": [],
   "source": [
    "matrix_list =[[1,0,0],[0,1,0],[0,0,1],[0,0,0]]"
   ]
  },
  {
   "cell_type": "code",
   "execution_count": 14,
   "id": "2cffeed9",
   "metadata": {},
   "outputs": [],
   "source": [
    "numpy_matrix_list = np.array(matrix_list)"
   ]
  },
  {
   "cell_type": "code",
   "execution_count": 15,
   "id": "17916ae5",
   "metadata": {},
   "outputs": [
    {
     "data": {
      "text/plain": [
       "(4, 3)"
      ]
     },
     "execution_count": 15,
     "metadata": {},
     "output_type": "execute_result"
    }
   ],
   "source": [
    "numpy_matrix_list.shape #(a,b) a:satır b:kolon"
   ]
  },
  {
   "cell_type": "markdown",
   "id": "26f75b80",
   "metadata": {},
   "source": [
    "# arrange"
   ]
  },
  {
   "cell_type": "code",
   "execution_count": 16,
   "id": "44f584e0",
   "metadata": {},
   "outputs": [
    {
     "data": {
      "text/plain": [
       "[0, 1, 2, 3, 4, 5, 6, 7, 8, 9]"
      ]
     },
     "execution_count": 16,
     "metadata": {},
     "output_type": "execute_result"
    }
   ],
   "source": [
    "list(range(0,10))"
   ]
  },
  {
   "cell_type": "code",
   "execution_count": 17,
   "id": "99ed72b4",
   "metadata": {},
   "outputs": [
    {
     "data": {
      "text/plain": [
       "array([0, 1, 2, 3, 4, 5, 6, 7, 8, 9])"
      ]
     },
     "execution_count": 17,
     "metadata": {},
     "output_type": "execute_result"
    }
   ],
   "source": [
    "np.arange(0,10)"
   ]
  },
  {
   "cell_type": "code",
   "execution_count": 18,
   "id": "89fcd117",
   "metadata": {},
   "outputs": [
    {
     "data": {
      "text/plain": [
       "array([ 0,  2,  4,  6,  8, 10, 12, 14, 16, 18, 20, 22, 24, 26, 28])"
      ]
     },
     "execution_count": 18,
     "metadata": {},
     "output_type": "execute_result"
    }
   ],
   "source": [
    "np.arange(0,30,2) #0'dan 30'a ikişer yazdırır"
   ]
  },
  {
   "cell_type": "code",
   "execution_count": 19,
   "id": "af40997b",
   "metadata": {},
   "outputs": [
    {
     "data": {
      "text/plain": [
       "array([[0., 0., 0., 0., 0., 0., 0., 0., 0., 0.],\n",
       "       [0., 0., 0., 0., 0., 0., 0., 0., 0., 0.],\n",
       "       [0., 0., 0., 0., 0., 0., 0., 0., 0., 0.],\n",
       "       [0., 0., 0., 0., 0., 0., 0., 0., 0., 0.],\n",
       "       [0., 0., 0., 0., 0., 0., 0., 0., 0., 0.],\n",
       "       [0., 0., 0., 0., 0., 0., 0., 0., 0., 0.],\n",
       "       [0., 0., 0., 0., 0., 0., 0., 0., 0., 0.],\n",
       "       [0., 0., 0., 0., 0., 0., 0., 0., 0., 0.],\n",
       "       [0., 0., 0., 0., 0., 0., 0., 0., 0., 0.],\n",
       "       [0., 0., 0., 0., 0., 0., 0., 0., 0., 0.]])"
      ]
     },
     "execution_count": 19,
     "metadata": {},
     "output_type": "execute_result"
    }
   ],
   "source": [
    "np.zeros((10,10))"
   ]
  },
  {
   "cell_type": "code",
   "execution_count": 20,
   "id": "44e52658",
   "metadata": {},
   "outputs": [
    {
     "data": {
      "text/plain": [
       "array([1., 1., 1., 1., 1., 1., 1., 1., 1., 1.])"
      ]
     },
     "execution_count": 20,
     "metadata": {},
     "output_type": "execute_result"
    }
   ],
   "source": [
    "np.ones((10))"
   ]
  },
  {
   "cell_type": "markdown",
   "id": "46c330e2",
   "metadata": {},
   "source": [
    "# linspace"
   ]
  },
  {
   "cell_type": "code",
   "execution_count": 21,
   "id": "58e34760",
   "metadata": {},
   "outputs": [
    {
     "data": {
      "text/plain": [
       "array([ 0.        ,  0.1010101 ,  0.2020202 ,  0.3030303 ,  0.4040404 ,\n",
       "        0.50505051,  0.60606061,  0.70707071,  0.80808081,  0.90909091,\n",
       "        1.01010101,  1.11111111,  1.21212121,  1.31313131,  1.41414141,\n",
       "        1.51515152,  1.61616162,  1.71717172,  1.81818182,  1.91919192,\n",
       "        2.02020202,  2.12121212,  2.22222222,  2.32323232,  2.42424242,\n",
       "        2.52525253,  2.62626263,  2.72727273,  2.82828283,  2.92929293,\n",
       "        3.03030303,  3.13131313,  3.23232323,  3.33333333,  3.43434343,\n",
       "        3.53535354,  3.63636364,  3.73737374,  3.83838384,  3.93939394,\n",
       "        4.04040404,  4.14141414,  4.24242424,  4.34343434,  4.44444444,\n",
       "        4.54545455,  4.64646465,  4.74747475,  4.84848485,  4.94949495,\n",
       "        5.05050505,  5.15151515,  5.25252525,  5.35353535,  5.45454545,\n",
       "        5.55555556,  5.65656566,  5.75757576,  5.85858586,  5.95959596,\n",
       "        6.06060606,  6.16161616,  6.26262626,  6.36363636,  6.46464646,\n",
       "        6.56565657,  6.66666667,  6.76767677,  6.86868687,  6.96969697,\n",
       "        7.07070707,  7.17171717,  7.27272727,  7.37373737,  7.47474747,\n",
       "        7.57575758,  7.67676768,  7.77777778,  7.87878788,  7.97979798,\n",
       "        8.08080808,  8.18181818,  8.28282828,  8.38383838,  8.48484848,\n",
       "        8.58585859,  8.68686869,  8.78787879,  8.88888889,  8.98989899,\n",
       "        9.09090909,  9.19191919,  9.29292929,  9.39393939,  9.49494949,\n",
       "        9.5959596 ,  9.6969697 ,  9.7979798 ,  9.8989899 , 10.        ])"
      ]
     },
     "execution_count": 21,
     "metadata": {},
     "output_type": "execute_result"
    }
   ],
   "source": [
    "np.linspace(0,10,100) #0'dan 10'a virgülsen sonra 100 arttırarak"
   ]
  },
  {
   "cell_type": "markdown",
   "id": "933ed910",
   "metadata": {},
   "source": [
    "# random"
   ]
  },
  {
   "cell_type": "code",
   "execution_count": 22,
   "id": "7546c85b",
   "metadata": {},
   "outputs": [
    {
     "data": {
      "text/plain": [
       "array([2, 3, 3])"
      ]
     },
     "execution_count": 22,
     "metadata": {},
     "output_type": "execute_result"
    }
   ],
   "source": [
    "np.random.randint(1,10,3) #1den 10a kadar rastgele 3 değer al"
   ]
  },
  {
   "cell_type": "markdown",
   "id": "07dceff6",
   "metadata": {},
   "source": [
    "# numpy arrays methods"
   ]
  },
  {
   "cell_type": "code",
   "execution_count": 23,
   "id": "19ffea8d",
   "metadata": {},
   "outputs": [
    {
     "data": {
      "text/plain": [
       "array([ 0,  1,  2,  3,  4,  5,  6,  7,  8,  9, 10, 11, 12, 13, 14, 15, 16,\n",
       "       17, 18, 19])"
      ]
     },
     "execution_count": 23,
     "metadata": {},
     "output_type": "execute_result"
    }
   ],
   "source": [
    "your_numpy_list = np.arange(0,20)\n",
    "your_numpy_list"
   ]
  },
  {
   "cell_type": "code",
   "execution_count": 24,
   "id": "be0e681f",
   "metadata": {},
   "outputs": [
    {
     "data": {
      "text/plain": [
       "array([4, 6, 8])"
      ]
     },
     "execution_count": 24,
     "metadata": {},
     "output_type": "execute_result"
    }
   ],
   "source": [
    "your_numpy_list[4:9:2]"
   ]
  },
  {
   "cell_type": "code",
   "execution_count": 25,
   "id": "5a893a4e",
   "metadata": {},
   "outputs": [
    {
     "data": {
      "text/plain": [
       "[0, 1, 2, 3, 4, 5, 6, 7, 8, 9, 10, 11, 12, 13, 14, 15, 16, 17, 18, 19]"
      ]
     },
     "execution_count": 25,
     "metadata": {},
     "output_type": "execute_result"
    }
   ],
   "source": [
    "your_list = list(range(0,20))\n",
    "your_list"
   ]
  },
  {
   "cell_type": "code",
   "execution_count": 26,
   "id": "4db5904c",
   "metadata": {},
   "outputs": [
    {
     "data": {
      "text/plain": [
       "[4, 6, 8]"
      ]
     },
     "execution_count": 26,
     "metadata": {},
     "output_type": "execute_result"
    }
   ],
   "source": [
    "your_list[4:9:2]"
   ]
  },
  {
   "cell_type": "code",
   "execution_count": 27,
   "id": "bf868157",
   "metadata": {},
   "outputs": [],
   "source": [
    "#your_list[4:9] = -10 çalışmaz"
   ]
  },
  {
   "cell_type": "code",
   "execution_count": 28,
   "id": "552df6bb",
   "metadata": {},
   "outputs": [],
   "source": [
    "your_numpy_list[4:9] = -10"
   ]
  },
  {
   "cell_type": "code",
   "execution_count": 29,
   "id": "956c03df",
   "metadata": {},
   "outputs": [],
   "source": [
    "other_list = np.arange(0,15)"
   ]
  },
  {
   "cell_type": "code",
   "execution_count": 30,
   "id": "0d7acff1",
   "metadata": {},
   "outputs": [],
   "source": [
    "slicing_list = other_list[4:10]"
   ]
  },
  {
   "cell_type": "code",
   "execution_count": 31,
   "id": "b6a536dc",
   "metadata": {},
   "outputs": [
    {
     "data": {
      "text/plain": [
       "array([4, 5, 6, 7, 8, 9])"
      ]
     },
     "execution_count": 31,
     "metadata": {},
     "output_type": "execute_result"
    }
   ],
   "source": [
    "slicing_list"
   ]
  },
  {
   "cell_type": "code",
   "execution_count": 32,
   "id": "d70efab7",
   "metadata": {},
   "outputs": [
    {
     "data": {
      "text/plain": [
       "array([ 0,  1,  2,  3,  4,  5,  6,  7,  8,  9, 10, 11, 12, 13, 14])"
      ]
     },
     "execution_count": 32,
     "metadata": {},
     "output_type": "execute_result"
    }
   ],
   "source": [
    "other_list"
   ]
  },
  {
   "cell_type": "code",
   "execution_count": 33,
   "id": "be3e91f4",
   "metadata": {},
   "outputs": [
    {
     "data": {
      "text/plain": [
       "[0, 1, 2, 3, 4, 5, 6, 7, 8, 9, 10, 11, 12, 13, 14, 15, 16, 17, 18, 19]"
      ]
     },
     "execution_count": 33,
     "metadata": {},
     "output_type": "execute_result"
    }
   ],
   "source": [
    "your_list"
   ]
  },
  {
   "cell_type": "code",
   "execution_count": 34,
   "id": "4f2760c8",
   "metadata": {},
   "outputs": [],
   "source": [
    "slicing_my_list = your_list[4:9]"
   ]
  },
  {
   "cell_type": "code",
   "execution_count": 35,
   "id": "a0436b6c",
   "metadata": {},
   "outputs": [],
   "source": [
    "slicing_my_list[1] = -100\n",
    "slicing_my_list[0] = -100"
   ]
  },
  {
   "cell_type": "code",
   "execution_count": 36,
   "id": "1631a501",
   "metadata": {},
   "outputs": [
    {
     "data": {
      "text/plain": [
       "[-100, -100, 6, 7, 8]"
      ]
     },
     "execution_count": 36,
     "metadata": {},
     "output_type": "execute_result"
    }
   ],
   "source": [
    "slicing_my_list"
   ]
  },
  {
   "cell_type": "code",
   "execution_count": 37,
   "id": "86926c2f",
   "metadata": {},
   "outputs": [],
   "source": [
    "numpy_list = np.arange(0,20)"
   ]
  },
  {
   "cell_type": "code",
   "execution_count": 38,
   "id": "3071bc72",
   "metadata": {},
   "outputs": [],
   "source": [
    "numpy_list_copy = numpy_list.copy()"
   ]
  },
  {
   "cell_type": "code",
   "execution_count": 39,
   "id": "be006785",
   "metadata": {},
   "outputs": [
    {
     "data": {
      "text/plain": [
       "array([ 0,  1,  2,  3,  4,  5,  6,  7,  8,  9, 10, 11, 12, 13, 14, 15, 16,\n",
       "       17, 18, 19])"
      ]
     },
     "execution_count": 39,
     "metadata": {},
     "output_type": "execute_result"
    }
   ],
   "source": [
    "numpy_list_copy"
   ]
  },
  {
   "cell_type": "code",
   "execution_count": 40,
   "id": "6d543445",
   "metadata": {},
   "outputs": [],
   "source": [
    "slicing_1 = numpy_list_copy[4:9]"
   ]
  },
  {
   "cell_type": "code",
   "execution_count": 41,
   "id": "d1628829",
   "metadata": {},
   "outputs": [],
   "source": [
    "slicing_1[:] = -100"
   ]
  },
  {
   "cell_type": "code",
   "execution_count": 42,
   "id": "132b6db5",
   "metadata": {},
   "outputs": [
    {
     "data": {
      "text/plain": [
       "array([-100, -100, -100, -100, -100])"
      ]
     },
     "execution_count": 42,
     "metadata": {},
     "output_type": "execute_result"
    }
   ],
   "source": [
    "slicing_1"
   ]
  },
  {
   "cell_type": "code",
   "execution_count": 43,
   "id": "7be197ef",
   "metadata": {},
   "outputs": [
    {
     "data": {
      "text/plain": [
       "array([   0,    1,    2,    3, -100, -100, -100, -100, -100,    9,   10,\n",
       "         11,   12,   13,   14,   15,   16,   17,   18,   19])"
      ]
     },
     "execution_count": 43,
     "metadata": {},
     "output_type": "execute_result"
    }
   ],
   "source": [
    "numpy_list_copy"
   ]
  },
  {
   "cell_type": "code",
   "execution_count": 44,
   "id": "69153032",
   "metadata": {},
   "outputs": [
    {
     "data": {
      "text/plain": [
       "array([ 0,  1,  2,  3,  4,  5,  6,  7,  8,  9, 10, 11, 12, 13, 14, 15, 16,\n",
       "       17, 18, 19])"
      ]
     },
     "execution_count": 44,
     "metadata": {},
     "output_type": "execute_result"
    }
   ],
   "source": [
    "numpy_list"
   ]
  },
  {
   "cell_type": "markdown",
   "id": "64e1b4e3",
   "metadata": {},
   "source": [
    "# numpy operation with numpy arrays"
   ]
  },
  {
   "cell_type": "code",
   "execution_count": 45,
   "id": "f149a146",
   "metadata": {},
   "outputs": [],
   "source": [
    "new_array = np.random.randint(1,150,25)"
   ]
  },
  {
   "cell_type": "code",
   "execution_count": 46,
   "id": "9a05c21e",
   "metadata": {},
   "outputs": [
    {
     "data": {
      "text/plain": [
       "array([ 37,  23,  43, 109,  52, 135,  35, 136,  40,  83,  95, 109,  33,\n",
       "       115,  52, 101,  37, 142,  89, 128, 140,  89,  28,  76,  76])"
      ]
     },
     "execution_count": 46,
     "metadata": {},
     "output_type": "execute_result"
    }
   ],
   "source": [
    "new_array"
   ]
  },
  {
   "cell_type": "code",
   "execution_count": 47,
   "id": "eea6d578",
   "metadata": {},
   "outputs": [
    {
     "data": {
      "text/plain": [
       "array([False, False, False,  True,  True,  True, False,  True, False,\n",
       "        True,  True,  True, False,  True,  True,  True, False,  True,\n",
       "        True,  True,  True,  True, False,  True,  True])"
      ]
     },
     "execution_count": 47,
     "metadata": {},
     "output_type": "execute_result"
    }
   ],
   "source": [
    "new_array > 50"
   ]
  },
  {
   "cell_type": "code",
   "execution_count": 48,
   "id": "b7671585",
   "metadata": {},
   "outputs": [],
   "source": [
    "result_array = new_array > 50"
   ]
  },
  {
   "cell_type": "code",
   "execution_count": 49,
   "id": "0b44c475",
   "metadata": {},
   "outputs": [
    {
     "data": {
      "text/plain": [
       "array([False, False, False,  True,  True,  True, False,  True, False,\n",
       "        True,  True,  True, False,  True,  True,  True, False,  True,\n",
       "        True,  True,  True,  True, False,  True,  True])"
      ]
     },
     "execution_count": 49,
     "metadata": {},
     "output_type": "execute_result"
    }
   ],
   "source": [
    "result_array"
   ]
  },
  {
   "cell_type": "code",
   "execution_count": 50,
   "id": "d024abe2",
   "metadata": {},
   "outputs": [
    {
     "data": {
      "text/plain": [
       "array([ 37,  23,  43, 109,  52, 135,  35, 136,  40,  83,  95, 109,  33,\n",
       "       115,  52, 101,  37, 142,  89, 128, 140,  89,  28,  76,  76])"
      ]
     },
     "execution_count": 50,
     "metadata": {},
     "output_type": "execute_result"
    }
   ],
   "source": [
    "new_array"
   ]
  },
  {
   "cell_type": "code",
   "execution_count": 51,
   "id": "03ba2b68",
   "metadata": {},
   "outputs": [
    {
     "data": {
      "text/plain": [
       "array([109,  52, 135, 136,  83,  95, 109, 115,  52, 101, 142,  89, 128,\n",
       "       140,  89,  76,  76])"
      ]
     },
     "execution_count": 51,
     "metadata": {},
     "output_type": "execute_result"
    }
   ],
   "source": [
    "new_array[result_array] #true olanları gösterir"
   ]
  },
  {
   "cell_type": "code",
   "execution_count": 52,
   "id": "318927db",
   "metadata": {},
   "outputs": [],
   "source": [
    "last_array = np.arange(0,30)"
   ]
  },
  {
   "cell_type": "code",
   "execution_count": 53,
   "id": "168c44ba",
   "metadata": {},
   "outputs": [
    {
     "data": {
      "text/plain": [
       "array([ 0,  2,  4,  6,  8, 10, 12, 14, 16, 18, 20, 22, 24, 26, 28, 30, 32,\n",
       "       34, 36, 38, 40, 42, 44, 46, 48, 50, 52, 54, 56, 58])"
      ]
     },
     "execution_count": 53,
     "metadata": {},
     "output_type": "execute_result"
    }
   ],
   "source": [
    "last_array + last_array"
   ]
  },
  {
   "cell_type": "code",
   "execution_count": 54,
   "id": "69388f65",
   "metadata": {},
   "outputs": [
    {
     "data": {
      "text/plain": [
       "array([  0,   1,   4,   9,  16,  25,  36,  49,  64,  81, 100, 121, 144,\n",
       "       169, 196, 225, 256, 289, 324, 361, 400, 441, 484, 529, 576, 625,\n",
       "       676, 729, 784, 841])"
      ]
     },
     "execution_count": 54,
     "metadata": {},
     "output_type": "execute_result"
    }
   ],
   "source": [
    "last_array * last_array"
   ]
  },
  {
   "cell_type": "code",
   "execution_count": 55,
   "id": "fc1b811b",
   "metadata": {},
   "outputs": [
    {
     "data": {
      "text/plain": [
       "29"
      ]
     },
     "execution_count": 55,
     "metadata": {},
     "output_type": "execute_result"
    }
   ],
   "source": [
    "last_array.max()"
   ]
  },
  {
   "cell_type": "code",
   "execution_count": 56,
   "id": "6bd644dd",
   "metadata": {},
   "outputs": [
    {
     "data": {
      "text/plain": [
       "29"
      ]
     },
     "execution_count": 56,
     "metadata": {},
     "output_type": "execute_result"
    }
   ],
   "source": [
    "np.max(last_array)"
   ]
  },
  {
   "cell_type": "code",
   "execution_count": 57,
   "id": "168abf70",
   "metadata": {},
   "outputs": [
    {
     "data": {
      "text/plain": [
       "14.5"
      ]
     },
     "execution_count": 57,
     "metadata": {},
     "output_type": "execute_result"
    }
   ],
   "source": [
    "np.mean(last_array)"
   ]
  },
  {
   "cell_type": "code",
   "execution_count": 58,
   "id": "8e29d7f8",
   "metadata": {},
   "outputs": [
    {
     "data": {
      "text/plain": [
       "array([0.        , 1.        , 1.41421356, 1.73205081, 2.        ,\n",
       "       2.23606798, 2.44948974, 2.64575131, 2.82842712, 3.        ,\n",
       "       3.16227766, 3.31662479, 3.46410162, 3.60555128, 3.74165739,\n",
       "       3.87298335, 4.        , 4.12310563, 4.24264069, 4.35889894,\n",
       "       4.47213595, 4.58257569, 4.69041576, 4.79583152, 4.89897949,\n",
       "       5.        , 5.09901951, 5.19615242, 5.29150262, 5.38516481])"
      ]
     },
     "execution_count": 58,
     "metadata": {},
     "output_type": "execute_result"
    }
   ],
   "source": [
    "np.sqrt(last_array)"
   ]
  },
  {
   "cell_type": "code",
   "execution_count": null,
   "id": "267e8bb0",
   "metadata": {},
   "outputs": [],
   "source": []
  }
 ],
 "metadata": {
  "kernelspec": {
   "display_name": "Python 3 (ipykernel)",
   "language": "python",
   "name": "python3"
  },
  "language_info": {
   "codemirror_mode": {
    "name": "ipython",
    "version": 3
   },
   "file_extension": ".py",
   "mimetype": "text/x-python",
   "name": "python",
   "nbconvert_exporter": "python",
   "pygments_lexer": "ipython3",
   "version": "3.10.9"
  }
 },
 "nbformat": 4,
 "nbformat_minor": 5
}
