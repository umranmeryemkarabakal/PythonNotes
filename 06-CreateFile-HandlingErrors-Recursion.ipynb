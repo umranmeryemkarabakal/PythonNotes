{
 "cells": [
  {
   "cell_type": "markdown",
   "id": "4fa972f2",
   "metadata": {},
   "source": [
    "# Metin Dosyası Oluşturma"
   ]
  },
  {
   "cell_type": "code",
   "execution_count": 1,
   "id": "c5268dd8",
   "metadata": {},
   "outputs": [
    {
     "name": "stdout",
     "output_type": "stream",
     "text": [
      "Overwriting myfile.txt\n"
     ]
    }
   ],
   "source": [
    "%%writefile myfile.txt\n",
    "\n",
    "test1\n",
    "test2\n",
    "test3"
   ]
  },
  {
   "cell_type": "code",
   "execution_count": 2,
   "id": "ab4a186c",
   "metadata": {},
   "outputs": [],
   "source": [
    "myFile = open(\"myfile.txt\") #parantez içine yolu yazılır"
   ]
  },
  {
   "cell_type": "code",
   "execution_count": 3,
   "id": "57921414",
   "metadata": {},
   "outputs": [
    {
     "data": {
      "text/plain": [
       "_io.TextIOWrapper"
      ]
     },
     "execution_count": 3,
     "metadata": {},
     "output_type": "execute_result"
    }
   ],
   "source": [
    "type(myFile)"
   ]
  },
  {
   "cell_type": "code",
   "execution_count": 4,
   "id": "e5a2a690",
   "metadata": {},
   "outputs": [
    {
     "data": {
      "text/plain": [
       "'\\ntest1\\ntest2\\ntest3\\n'"
      ]
     },
     "execution_count": 4,
     "metadata": {},
     "output_type": "execute_result"
    }
   ],
   "source": [
    "myFile.read()"
   ]
  },
  {
   "cell_type": "code",
   "execution_count": 5,
   "id": "13063729",
   "metadata": {},
   "outputs": [
    {
     "data": {
      "text/plain": [
       "''"
      ]
     },
     "execution_count": 5,
     "metadata": {},
     "output_type": "execute_result"
    }
   ],
   "source": [
    "myFile.read() #okuyup okuyup en sona geldi ve kaldı"
   ]
  },
  {
   "cell_type": "code",
   "execution_count": 6,
   "id": "2484583c",
   "metadata": {},
   "outputs": [
    {
     "data": {
      "text/plain": [
       "0"
      ]
     },
     "execution_count": 6,
     "metadata": {},
     "output_type": "execute_result"
    }
   ],
   "source": [
    "myFile.seek(0)"
   ]
  },
  {
   "cell_type": "code",
   "execution_count": 7,
   "id": "048d4cc5",
   "metadata": {},
   "outputs": [
    {
     "data": {
      "text/plain": [
       "'\\ntest1\\ntest2\\ntest3\\n'"
      ]
     },
     "execution_count": 7,
     "metadata": {},
     "output_type": "execute_result"
    }
   ],
   "source": [
    "myFile.read()"
   ]
  },
  {
   "cell_type": "code",
   "execution_count": 8,
   "id": "fd57543b",
   "metadata": {},
   "outputs": [],
   "source": [
    "myFile.close() #dosyayı geri kapatmak gerekir"
   ]
  },
  {
   "cell_type": "code",
   "execution_count": 9,
   "id": "98b726a7",
   "metadata": {},
   "outputs": [],
   "source": [
    "with open(\"myfile.txt\") as myFile:\n",
    "    myContent = myFile.read()"
   ]
  },
  {
   "cell_type": "code",
   "execution_count": 10,
   "id": "ffc7ceb2",
   "metadata": {},
   "outputs": [
    {
     "data": {
      "text/plain": [
       "'\\ntest1\\ntest2\\ntest3\\n'"
      ]
     },
     "execution_count": 10,
     "metadata": {},
     "output_type": "execute_result"
    }
   ],
   "source": [
    "myContent"
   ]
  },
  {
   "cell_type": "code",
   "execution_count": 11,
   "id": "f8437b69",
   "metadata": {},
   "outputs": [
    {
     "data": {
      "text/plain": [
       "'\\ntest1\\ntest2\\ntest3\\n'"
      ]
     },
     "execution_count": 11,
     "metadata": {},
     "output_type": "execute_result"
    }
   ],
   "source": [
    "myContent"
   ]
  },
  {
   "cell_type": "code",
   "execution_count": 12,
   "id": "8980d6b7",
   "metadata": {},
   "outputs": [],
   "source": [
    "with open(\"myfile.txt\",mode=\"w\") as myNewFile: #w :write\n",
    "    myNewFile.write(\"test4\")"
   ]
  },
  {
   "cell_type": "code",
   "execution_count": 13,
   "id": "bc9d7af2",
   "metadata": {},
   "outputs": [
    {
     "data": {
      "text/plain": [
       "<_io.TextIOWrapper name='myfile.txt' mode='w' encoding='cp1254'>"
      ]
     },
     "execution_count": 13,
     "metadata": {},
     "output_type": "execute_result"
    }
   ],
   "source": [
    "myNewFile"
   ]
  },
  {
   "cell_type": "code",
   "execution_count": 14,
   "id": "0cccef5c",
   "metadata": {},
   "outputs": [],
   "source": [
    "with open(\"myfile.txt\",mode=\"r\") as myFile2:\n",
    "    myContent = myFile2.read()"
   ]
  },
  {
   "cell_type": "code",
   "execution_count": 15,
   "id": "1ebdd954",
   "metadata": {},
   "outputs": [
    {
     "data": {
      "text/plain": [
       "'test4'"
      ]
     },
     "execution_count": 15,
     "metadata": {},
     "output_type": "execute_result"
    }
   ],
   "source": [
    "myContent"
   ]
  },
  {
   "cell_type": "raw",
   "id": "ebd79a69",
   "metadata": {},
   "source": [
    "w->write r->read a->append"
   ]
  },
  {
   "cell_type": "code",
   "execution_count": 16,
   "id": "7dcb343f",
   "metadata": {},
   "outputs": [],
   "source": [
    "with open(\"myfile.txt\",mode=\"a\") as myNewFile3: \n",
    "    myNewFile3.write(\"test5\")"
   ]
  },
  {
   "cell_type": "code",
   "execution_count": 17,
   "id": "b5e970a9",
   "metadata": {},
   "outputs": [],
   "source": [
    "with open(\"myfile.txt\",mode=\"r\") as myFile4:\n",
    "    myContent = myFile4.read()"
   ]
  },
  {
   "cell_type": "code",
   "execution_count": 18,
   "id": "1ea124fa",
   "metadata": {},
   "outputs": [
    {
     "data": {
      "text/plain": [
       "'test4test5'"
      ]
     },
     "execution_count": 18,
     "metadata": {},
     "output_type": "execute_result"
    }
   ],
   "source": [
    "myContent"
   ]
  },
  {
   "cell_type": "markdown",
   "id": "8ec04489",
   "metadata": {},
   "source": [
    "# Handling Errors"
   ]
  },
  {
   "cell_type": "raw",
   "id": "190747f9",
   "metadata": {},
   "source": [
    "try-except "
   ]
  },
  {
   "cell_type": "raw",
   "id": "c31351ad",
   "metadata": {},
   "source": [
    "diyelim ki yaşı sordu cevabı string verdi"
   ]
  },
  {
   "cell_type": "code",
   "execution_count": 3,
   "id": "3b280575",
   "metadata": {},
   "outputs": [
    {
     "name": "stdout",
     "output_type": "stream",
     "text": [
      "enter age: r\n",
      "enter your age!!!\n",
      "finally\n",
      "enter age: g\n",
      "enter your age!!!\n",
      "finally\n",
      "enter age: sgb\n",
      "enter your age!!!\n",
      "finally\n",
      "enter age: bddb\n",
      "enter your age!!!\n",
      "finally\n",
      "enter age: 4\n",
      "8\n",
      "else executed\n",
      "finally\n"
     ]
    }
   ],
   "source": [
    "while True:\n",
    "    try: \n",
    "        myAge = int(input(\"enter age: \"))\n",
    "        print(myAge*2)\n",
    "        #break\n",
    "    except:# ValueError:#hata çeşidine göre farklı çıktı verilebilir\n",
    "        print(\"enter your age!!!\")\n",
    "    else:\n",
    "        print(\"else executed\")\n",
    "        break\n",
    "    finally:#her zaman çalışır her hata türünde çalıştırmak istediğimiz kod varsa yazabiliriz\n",
    "        print(\"finally\")"
   ]
  },
  {
   "cell_type": "markdown",
   "id": "f1ce0f73",
   "metadata": {},
   "source": [
    "# Recursion"
   ]
  },
  {
   "cell_type": "code",
   "execution_count": 1,
   "id": "02c60b8c",
   "metadata": {},
   "outputs": [],
   "source": [
    "def calculateFactorial(num):\n",
    "    if num == 0:\n",
    "        return 1\n",
    "    else:\n",
    "        return num * calculateFactorial (num-1)"
   ]
  },
  {
   "cell_type": "raw",
   "id": "7547464d",
   "metadata": {},
   "source": [
    "return 5 * calculateFactorial(4)\n",
    "return 4 * calculateFactorial(3)\n",
    "return 3 * calculateFactorial(2)\n",
    "return 2 * calculateFactorial(1)\n",
    "return 1 * calculateFactorial(0)\n",
    "stop\n",
    "return 0 * calculateFactorial(-1)"
   ]
  },
  {
   "cell_type": "code",
   "execution_count": 2,
   "id": "380b22b7",
   "metadata": {},
   "outputs": [
    {
     "data": {
      "text/plain": [
       "120"
      ]
     },
     "execution_count": 2,
     "metadata": {},
     "output_type": "execute_result"
    }
   ],
   "source": [
    "calculateFactorial(5)"
   ]
  },
  {
   "cell_type": "code",
   "execution_count": 3,
   "id": "9a9fca75",
   "metadata": {},
   "outputs": [
    {
     "data": {
      "text/plain": [
       "40320"
      ]
     },
     "execution_count": 3,
     "metadata": {},
     "output_type": "execute_result"
    }
   ],
   "source": [
    "calculateFactorial(8)"
   ]
  },
  {
   "cell_type": "code",
   "execution_count": 4,
   "id": "74dfa1b1",
   "metadata": {},
   "outputs": [],
   "source": [
    "def calculateContigousSum(num):\n",
    "    if num == 0:\n",
    "        return 0\n",
    "    else:\n",
    "        return num + calculateContigousSum (num-1)"
   ]
  },
  {
   "cell_type": "code",
   "execution_count": 5,
   "id": "49e472e6",
   "metadata": {},
   "outputs": [
    {
     "data": {
      "text/plain": [
       "21"
      ]
     },
     "execution_count": 5,
     "metadata": {},
     "output_type": "execute_result"
    }
   ],
   "source": [
    "calculateContigousSum(6)"
   ]
  },
  {
   "cell_type": "code",
   "execution_count": 6,
   "id": "49be3cd4",
   "metadata": {},
   "outputs": [
    {
     "data": {
      "text/plain": [
       "28"
      ]
     },
     "execution_count": 6,
     "metadata": {},
     "output_type": "execute_result"
    }
   ],
   "source": [
    "calculateContigousSum(7)"
   ]
  }
 ],
 "metadata": {
  "kernelspec": {
   "display_name": "Python 3 (ipykernel)",
   "language": "python",
   "name": "python3"
  },
  "language_info": {
   "codemirror_mode": {
    "name": "ipython",
    "version": 3
   },
   "file_extension": ".py",
   "mimetype": "text/x-python",
   "name": "python",
   "nbconvert_exporter": "python",
   "pygments_lexer": "ipython3",
   "version": "3.10.9"
  }
 },
 "nbformat": 4,
 "nbformat_minor": 5
}
