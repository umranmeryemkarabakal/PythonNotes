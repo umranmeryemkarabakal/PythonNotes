{
 "cells": [
  {
   "cell_type": "code",
   "execution_count": 19,
   "id": "5ace5add",
   "metadata": {},
   "outputs": [],
   "source": [
    "fileObject = open(\"deneme.txt\",\"w\",encoding=\"utf-8\") #open obje döndürür\n",
    "lines = [\"bu\\n\", \"bir\\n\",\"örnek\\n\", \"metindir\"]\n",
    "fileObject.writelines(lines)\n",
    "fileObject.write(\"merhaba\\n\")\n",
    "fileObject.write(\"hello python\\n\")\n",
    "fileObject.write(\"evie academy\")\n",
    "fileObject.close()"
   ]
  },
  {
   "cell_type": "code",
   "execution_count": 20,
   "id": "f6d052a5",
   "metadata": {},
   "outputs": [
    {
     "name": "stdout",
     "output_type": "stream",
     "text": [
      "bu\n",
      "bir\n",
      "örnek\n",
      "metindir\n",
      "merhaba\n",
      "\n",
      "hello python\n",
      "evie academy\n"
     ]
    }
   ],
   "source": [
    "with open(\"deneme.txt\",\"r\",encoding=\"utf-8\") as fileObject: #mod yazmaszak otomatik read modunda açar\n",
    "    text = fileObject.read(21)\n",
    "    print(text)\n",
    "    text1 = fileObject.readline()\n",
    "    print(text1)\n",
    "    text2 = fileObject.readline()\n",
    "    print(text2, end=\"\")\n",
    "    text3 = fileObject.readline()\n",
    "    print(text3)\n",
    "    #text1 text2 arasında bir boşluk olmasının nedeni satır sonundaki \\n karakterininde okunmuş olmasıdır\n",
    "    #with dosyayı otomatik close eder"
   ]
  },
  {
   "cell_type": "code",
   "execution_count": 22,
   "id": "0a23aa34",
   "metadata": {},
   "outputs": [
    {
     "name": "stdout",
     "output_type": "stream",
     "text": [
      "bu\n",
      "bir\n",
      "örnek\n",
      "metindirmerhaba\n",
      "hello python\n",
      "evie academy"
     ]
    }
   ],
   "source": [
    "with open(\"deneme.txt\",\"r\",encoding=\"utf-8\") as fileObject: #mod yazmaszak otomatik read modunda açar\n",
    "    for lineText in fileObject: #for lineText in fileObject.readlines()\n",
    "        print(lineText, end=\"\")\n",
    "#readlines liste döner \n",
    "#\"r+\" hem okuyup hem yazar, önceden  dosya mevcut değilse hata verir\n",
    "#\"w+\" hem yazar hem okur, önceden dosya oluşturmadıysa otomatik oluşturur dosya mevcutsa içeriğini siler yeniden yazdırır\n",
    "#\"a\" append dosya mevcut değilse oluşturur,mevcutsa dosyaya ekleme yapar\n",
    "#\"a+\" hem yazar hem okur"
   ]
  },
  {
   "cell_type": "code",
   "execution_count": 27,
   "id": "27d4a2cf",
   "metadata": {},
   "outputs": [
    {
     "name": "stdout",
     "output_type": "stream",
     "text": [
      "python is awesome\n",
      "python is awesome\n",
      "python is awesome\n",
      "\n"
     ]
    }
   ],
   "source": [
    "with open(\"deneme1.txt\",\"a+\") as fileObject:\n",
    "    fileObject.write(\"python is awesome\\n\")\n",
    "    fileObject.seek(0) #yazdırdıktan sonra en başa dönmek \n",
    "    text = fileObject.read()\n",
    "    print(text)"
   ]
  },
  {
   "cell_type": "code",
   "execution_count": 30,
   "id": "2b935198",
   "metadata": {},
   "outputs": [
    {
     "name": "stdout",
     "output_type": "stream",
     "text": [
      "Dosya: deneme.txt\n",
      "bu\n",
      "bir\n",
      "örnek\n",
      "metindirmerhaba\n",
      "hello python\n",
      "evie academy\n",
      "Dosya: deneme1.txt\n",
      "ymedaca eive\n",
      "nohtyp olleh\n",
      "abahremridnitem\n",
      "kenrö\n",
      "rib\n",
      "ub\n"
     ]
    }
   ],
   "source": [
    " with open(\"deneme.txt\",encoding = \"utf-8\") as fileObject:\n",
    "    print(f\"Dosya: {fileObject.name}\")\n",
    "    text = fileObject.read()\n",
    "    print(text)\n",
    "    \n",
    "\n",
    "with open(\"deneme1.txt\",\"w\",encoding = \"utf-8\") as fileObject:\n",
    "    print(f\"Dosya: {fileObject.name}\")\n",
    "    text = text[::-1] #stringin başı:stringin sonu değer vermeyince başından sonuna kadar almış olur:adım boş bırakıldığında 1 olarak alır değerleri - ise sondan başa demek \n",
    "    print(text)"
   ]
  },
  {
   "cell_type": "code",
   "execution_count": null,
   "id": "35bd6d46",
   "metadata": {},
   "outputs": [],
   "source": [
    "fileName = input(\"metin dosyasının ismini giriniz: \")\n",
    "linesNumber = 0\n",
    "wordsNumber = 0\n",
    "wordsMaxLength  =0 \n",
    "if len(fileName) >0:\n",
    "    with open(fileName,encoding=\"utf-8\") as fileObject:\n",
    "        for lineContent in fileObject:\n",
    "            linesNumber += 1\n",
    "            words = lineContent.split()\n",
    "            wordsNumber += len(words)\n",
    "            for word in words:\n",
    "                if len(word) > wordsMaxLength:\n",
    "                    wordsMaxLength = len(word)\n",
    "                    \n",
    "print(f\"satır sayısı: {linesNumber}\")\n",
    "print(f\"kelime sayısı: {wordsNumber}\")\n",
    "print(f\"en uzun kelimenin uzunluğu: {wordsMaxLength}\")"
   ]
  },
  {
   "cell_type": "code",
   "execution_count": null,
   "id": "ce68fc0d",
   "metadata": {},
   "outputs": [],
   "source": []
  }
 ],
 "metadata": {
  "kernelspec": {
   "display_name": "Python 3 (ipykernel)",
   "language": "python",
   "name": "python3"
  },
  "language_info": {
   "codemirror_mode": {
    "name": "ipython",
    "version": 3
   },
   "file_extension": ".py",
   "mimetype": "text/x-python",
   "name": "python",
   "nbconvert_exporter": "python",
   "pygments_lexer": "ipython3",
   "version": "3.10.9"
  }
 },
 "nbformat": 4,
 "nbformat_minor": 5
}
