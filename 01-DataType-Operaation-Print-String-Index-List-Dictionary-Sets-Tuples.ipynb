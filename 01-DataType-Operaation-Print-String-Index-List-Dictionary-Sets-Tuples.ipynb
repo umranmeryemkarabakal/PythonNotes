{
 "cells": [
  {
   "cell_type": "markdown",
   "id": "b8f09aaa",
   "metadata": {},
   "source": [
    "# Data Type"
   ]
  },
  {
   "cell_type": "raw",
   "id": "95a65b3f",
   "metadata": {},
   "source": [
    "type() hangi veri tipine sahip olduğunu gösterir\n",
    "int : integer : tam sayı\n",
    "float : floating point : kesirli sayı\n",
    "str : string : kelime"
   ]
  },
  {
   "cell_type": "code",
   "execution_count": 1,
   "id": "f4e919d9",
   "metadata": {},
   "outputs": [
    {
     "data": {
      "text/plain": [
       "int"
      ]
     },
     "execution_count": 1,
     "metadata": {},
     "output_type": "execute_result"
    }
   ],
   "source": [
    "type (10)"
   ]
  },
  {
   "cell_type": "code",
   "execution_count": 2,
   "id": "1c858e30",
   "metadata": {},
   "outputs": [
    {
     "data": {
      "text/plain": [
       "float"
      ]
     },
     "execution_count": 2,
     "metadata": {},
     "output_type": "execute_result"
    }
   ],
   "source": [
    "type (2.5)"
   ]
  },
  {
   "cell_type": "code",
   "execution_count": 3,
   "id": "3c443950",
   "metadata": {},
   "outputs": [
    {
     "data": {
      "text/plain": [
       "str"
      ]
     },
     "execution_count": 3,
     "metadata": {},
     "output_type": "execute_result"
    }
   ],
   "source": [
    "name = \"meryem\"\n",
    "type (name)"
   ]
  },
  {
   "cell_type": "markdown",
   "id": "a6a16ab2",
   "metadata": {},
   "source": [
    "# Operation"
   ]
  },
  {
   "cell_type": "raw",
   "id": "df567c96",
   "metadata": {},
   "source": [
    "2 tam sayı birbirine bölündüğünde float sonuç çıkar bunun sebebi iki sayı bölündüğünde kesirli çıkma ihtimali daha yüksektir"
   ]
  },
  {
   "cell_type": "code",
   "execution_count": 4,
   "id": "a4890786",
   "metadata": {},
   "outputs": [
    {
     "data": {
      "text/plain": [
       "10.0"
      ]
     },
     "execution_count": 4,
     "metadata": {},
     "output_type": "execute_result"
    }
   ],
   "source": [
    "40 / 4"
   ]
  },
  {
   "cell_type": "code",
   "execution_count": 5,
   "id": "eccfdf5c",
   "metadata": {},
   "outputs": [
    {
     "data": {
      "text/plain": [
       "32"
      ]
     },
     "execution_count": 5,
     "metadata": {},
     "output_type": "execute_result"
    }
   ],
   "source": [
    "2**5 #üssü işlemi"
   ]
  },
  {
   "cell_type": "code",
   "execution_count": 6,
   "id": "098230a0",
   "metadata": {
    "scrolled": true
   },
   "outputs": [
    {
     "data": {
      "text/plain": [
       "1"
      ]
     },
     "execution_count": 6,
     "metadata": {},
     "output_type": "execute_result"
    }
   ],
   "source": [
    "10 % 3 #remainder : kalan alma işlemi"
   ]
  },
  {
   "cell_type": "code",
   "execution_count": 7,
   "id": "533ec222",
   "metadata": {},
   "outputs": [],
   "source": [
    "x = 10"
   ]
  },
  {
   "cell_type": "code",
   "execution_count": 8,
   "id": "f39c993a",
   "metadata": {},
   "outputs": [
    {
     "data": {
      "text/plain": [
       "13"
      ]
     },
     "execution_count": 8,
     "metadata": {},
     "output_type": "execute_result"
    }
   ],
   "source": [
    "x += 3\n",
    "x"
   ]
  },
  {
   "cell_type": "code",
   "execution_count": 9,
   "id": "3b6ce9a4",
   "metadata": {
    "scrolled": true
   },
   "outputs": [
    {
     "data": {
      "text/plain": [
       "12"
      ]
     },
     "execution_count": 9,
     "metadata": {},
     "output_type": "execute_result"
    }
   ],
   "source": [
    "x -= 1\n",
    "x"
   ]
  },
  {
   "cell_type": "code",
   "execution_count": 10,
   "id": "bc554003",
   "metadata": {},
   "outputs": [
    {
     "data": {
      "text/plain": [
       "60"
      ]
     },
     "execution_count": 10,
     "metadata": {},
     "output_type": "execute_result"
    }
   ],
   "source": [
    "x *=5\n",
    "x"
   ]
  },
  {
   "cell_type": "code",
   "execution_count": 11,
   "id": "e77fbe35",
   "metadata": {},
   "outputs": [
    {
     "data": {
      "text/plain": [
       "65"
      ]
     },
     "execution_count": 11,
     "metadata": {},
     "output_type": "execute_result"
    }
   ],
   "source": [
    "x = x+5\n",
    "x"
   ]
  },
  {
   "cell_type": "markdown",
   "id": "bc8450a8",
   "metadata": {},
   "source": [
    "# Print"
   ]
  },
  {
   "cell_type": "code",
   "execution_count": 12,
   "id": "37784347",
   "metadata": {},
   "outputs": [
    {
     "data": {
      "text/plain": [
       "'hello python'"
      ]
     },
     "execution_count": 12,
     "metadata": {},
     "output_type": "execute_result"
    }
   ],
   "source": [
    "\"hello python\""
   ]
  },
  {
   "cell_type": "code",
   "execution_count": 13,
   "id": "0208102b",
   "metadata": {},
   "outputs": [
    {
     "data": {
      "text/plain": [
       "'hello python'"
      ]
     },
     "execution_count": 13,
     "metadata": {},
     "output_type": "execute_result"
    }
   ],
   "source": [
    "'hello python'"
   ]
  },
  {
   "cell_type": "code",
   "execution_count": 14,
   "id": "782300fe",
   "metadata": {},
   "outputs": [
    {
     "name": "stdout",
     "output_type": "stream",
     "text": [
      "hello python\n"
     ]
    }
   ],
   "source": [
    "print (\"hello python\")"
   ]
  },
  {
   "cell_type": "markdown",
   "id": "f745baa4",
   "metadata": {},
   "source": [
    "# String"
   ]
  },
  {
   "cell_type": "code",
   "execution_count": 15,
   "id": "dc66a685",
   "metadata": {},
   "outputs": [],
   "source": [
    "name = \"meryem karabakal\""
   ]
  },
  {
   "cell_type": "raw",
   "id": "c692ec10",
   "metadata": {},
   "source": [
    "stringin kaç karakterden oluştuğunu görmek için :"
   ]
  },
  {
   "cell_type": "code",
   "execution_count": 16,
   "id": "10c6d2b7",
   "metadata": {},
   "outputs": [
    {
     "data": {
      "text/plain": [
       "16"
      ]
     },
     "execution_count": 16,
     "metadata": {},
     "output_type": "execute_result"
    }
   ],
   "source": [
    "len(name) #len : lenght"
   ]
  },
  {
   "cell_type": "raw",
   "id": "d028e009",
   "metadata": {},
   "source": [
    "kelimenin sadece ilk harfini büyük yapmak için :"
   ]
  },
  {
   "cell_type": "code",
   "execution_count": 17,
   "id": "2021faa7",
   "metadata": {},
   "outputs": [
    {
     "data": {
      "text/plain": [
       "'Meryem karabakal'"
      ]
     },
     "execution_count": 17,
     "metadata": {},
     "output_type": "execute_result"
    }
   ],
   "source": [
    "name.capitalize() # capitalize : büyük harfle yazmak"
   ]
  },
  {
   "cell_type": "code",
   "execution_count": 18,
   "id": "4587a932",
   "metadata": {},
   "outputs": [
    {
     "name": "stdout",
     "output_type": "stream",
     "text": [
      "Help on built-in function capitalize:\n",
      "\n",
      "capitalize() method of builtins.str instance\n",
      "    Return a capitalized version of the string.\n",
      "\n",
      "    More specifically, make the first character have upper case and the rest lower\n",
      "    case.\n",
      "\n"
     ]
    }
   ],
   "source": [
    "help(name.capitalize)"
   ]
  },
  {
   "cell_type": "raw",
   "id": "04bfcbda",
   "metadata": {},
   "source": [
    "içinde kaç tane a harfi var :"
   ]
  },
  {
   "cell_type": "code",
   "execution_count": 19,
   "id": "5be8c96d",
   "metadata": {},
   "outputs": [
    {
     "data": {
      "text/plain": [
       "4"
      ]
     },
     "execution_count": 19,
     "metadata": {},
     "output_type": "execute_result"
    }
   ],
   "source": [
    "name.count(\"a\") # count : saymak"
   ]
  },
  {
   "cell_type": "raw",
   "id": "3805e506",
   "metadata": {},
   "source": [
    "a harfini ilk gördüğü index sırasını yazar"
   ]
  },
  {
   "cell_type": "code",
   "execution_count": 20,
   "id": "806bf98d",
   "metadata": {},
   "outputs": [
    {
     "data": {
      "text/plain": [
       "8"
      ]
     },
     "execution_count": 20,
     "metadata": {},
     "output_type": "execute_result"
    }
   ],
   "source": [
    "name.index(\"a\")"
   ]
  },
  {
   "cell_type": "raw",
   "id": "45857468",
   "metadata": {},
   "source": [
    "tüm harflerini büyük yazmak için :"
   ]
  },
  {
   "cell_type": "code",
   "execution_count": 21,
   "id": "fc10da98",
   "metadata": {},
   "outputs": [
    {
     "data": {
      "text/plain": [
       "'MERYEM KARABAKAL'"
      ]
     },
     "execution_count": 21,
     "metadata": {},
     "output_type": "execute_result"
    }
   ],
   "source": [
    "name.upper()"
   ]
  },
  {
   "cell_type": "raw",
   "id": "aa535fa3",
   "metadata": {},
   "source": [
    "bu fonksiyonlar tek seferliktir kalıcılık için :"
   ]
  },
  {
   "cell_type": "code",
   "execution_count": 22,
   "id": "98155a87",
   "metadata": {},
   "outputs": [],
   "source": [
    "nameUpper = name.upper"
   ]
  },
  {
   "cell_type": "code",
   "execution_count": 23,
   "id": "ab7ef8a2",
   "metadata": {},
   "outputs": [
    {
     "data": {
      "text/plain": [
       "'MERYEM KARABAKAL'"
      ]
     },
     "execution_count": 23,
     "metadata": {},
     "output_type": "execute_result"
    }
   ],
   "source": [
    "nameUpper()"
   ]
  },
  {
   "cell_type": "code",
   "execution_count": 24,
   "id": "50b66399",
   "metadata": {},
   "outputs": [
    {
     "name": "stdout",
     "output_type": "stream",
     "text": [
      "meryem \n",
      "karabakal\n"
     ]
    }
   ],
   "source": [
    "print (\"meryem \\nkarabakal\")"
   ]
  },
  {
   "cell_type": "code",
   "execution_count": 25,
   "id": "3afd8d37",
   "metadata": {},
   "outputs": [
    {
     "name": "stdout",
     "output_type": "stream",
     "text": [
      "meryem \tkarabakal\n"
     ]
    }
   ],
   "source": [
    "print (\"meryem \\tkarabakal\")"
   ]
  },
  {
   "cell_type": "markdown",
   "id": "c8e641f7",
   "metadata": {},
   "source": [
    "# Index"
   ]
  },
  {
   "cell_type": "code",
   "execution_count": 26,
   "id": "4eea9351",
   "metadata": {},
   "outputs": [],
   "source": [
    "myString = \"hello python\""
   ]
  },
  {
   "cell_type": "code",
   "execution_count": 27,
   "id": "655d7ed9",
   "metadata": {},
   "outputs": [
    {
     "data": {
      "text/plain": [
       "'h'"
      ]
     },
     "execution_count": 27,
     "metadata": {},
     "output_type": "execute_result"
    }
   ],
   "source": [
    "myString[0]"
   ]
  },
  {
   "cell_type": "code",
   "execution_count": 28,
   "id": "51501db9",
   "metadata": {},
   "outputs": [
    {
     "data": {
      "text/plain": [
       "'n'"
      ]
     },
     "execution_count": 28,
     "metadata": {},
     "output_type": "execute_result"
    }
   ],
   "source": [
    "myString[len(myString)-1]"
   ]
  },
  {
   "cell_type": "code",
   "execution_count": 29,
   "id": "871a5e80",
   "metadata": {},
   "outputs": [
    {
     "data": {
      "text/plain": [
       "'n'"
      ]
     },
     "execution_count": 29,
     "metadata": {},
     "output_type": "execute_result"
    }
   ],
   "source": [
    "myString[-1]"
   ]
  },
  {
   "cell_type": "raw",
   "id": "e0d9b4e0",
   "metadata": {},
   "source": [
    "myString[0] = \"a\" \n",
    "kodu çalışmaz\n",
    "immutable-immutability değiştirelemez olduğu için"
   ]
  },
  {
   "cell_type": "code",
   "execution_count": 30,
   "id": "209bf7d6",
   "metadata": {},
   "outputs": [],
   "source": [
    "barcode = \"CTBJH356986196\""
   ]
  },
  {
   "cell_type": "raw",
   "id": "a727233b",
   "metadata": {},
   "source": [
    "Barcode[#starting index : #stopping index : #stepping index]\n",
    "Starting index kaçtan başlayacağını söyler 3 ise 3. index dahil yazar\n",
    "Stopping index kaçta sonlanacağını söyler 3 ise 3. index dahil değildir\n",
    "Stepping  index kaçar kaçar atlayarak yazacağını söyler"
   ]
  },
  {
   "cell_type": "code",
   "execution_count": 31,
   "id": "52a36f76",
   "metadata": {},
   "outputs": [
    {
     "data": {
      "text/plain": [
       "'JH356986196'"
      ]
     },
     "execution_count": 31,
     "metadata": {},
     "output_type": "execute_result"
    }
   ],
   "source": [
    "barcode[3::]"
   ]
  },
  {
   "cell_type": "code",
   "execution_count": 32,
   "id": "d303f662",
   "metadata": {},
   "outputs": [
    {
     "data": {
      "text/plain": [
       "'CTB'"
      ]
     },
     "execution_count": 32,
     "metadata": {},
     "output_type": "execute_result"
    }
   ],
   "source": [
    "barcode[:3:]"
   ]
  },
  {
   "cell_type": "code",
   "execution_count": 33,
   "id": "a9cf770b",
   "metadata": {},
   "outputs": [
    {
     "data": {
      "text/plain": [
       "'CJ589'"
      ]
     },
     "execution_count": 33,
     "metadata": {},
     "output_type": "execute_result"
    }
   ],
   "source": [
    "barcode[::3]"
   ]
  },
  {
   "cell_type": "markdown",
   "id": "3927f635",
   "metadata": {},
   "source": [
    "# List"
   ]
  },
  {
   "cell_type": "code",
   "execution_count": 34,
   "id": "6d76df72",
   "metadata": {},
   "outputs": [],
   "source": [
    "myString = \"hello python\""
   ]
  },
  {
   "cell_type": "raw",
   "id": "f188d731",
   "metadata": {},
   "source": [
    "karakterleri liste formatına çevirmek için :"
   ]
  },
  {
   "cell_type": "code",
   "execution_count": 35,
   "id": "1613653f",
   "metadata": {},
   "outputs": [
    {
     "data": {
      "text/plain": [
       "['hello', 'python']"
      ]
     },
     "execution_count": 35,
     "metadata": {},
     "output_type": "execute_result"
    }
   ],
   "source": [
    "myString.split()"
   ]
  },
  {
   "cell_type": "raw",
   "id": "d70556b0",
   "metadata": {},
   "source": [
    "liste integer float string'den oluşabilir"
   ]
  },
  {
   "cell_type": "code",
   "execution_count": 36,
   "id": "643a8b64",
   "metadata": {},
   "outputs": [],
   "source": [
    "mixedList = [\"meryem\", 3.14 , 10 ]"
   ]
  },
  {
   "cell_type": "code",
   "execution_count": 37,
   "id": "e214398f",
   "metadata": {},
   "outputs": [
    {
     "data": {
      "text/plain": [
       "list"
      ]
     },
     "execution_count": 37,
     "metadata": {},
     "output_type": "execute_result"
    }
   ],
   "source": [
    "type(mixedList)"
   ]
  },
  {
   "cell_type": "code",
   "execution_count": 38,
   "id": "4cbe2d92",
   "metadata": {},
   "outputs": [],
   "source": [
    "x = 10\n",
    "y = 20\n",
    "z= 30"
   ]
  },
  {
   "cell_type": "code",
   "execution_count": 39,
   "id": "df45b162",
   "metadata": {},
   "outputs": [],
   "source": [
    "myList = [x,y,z]"
   ]
  },
  {
   "cell_type": "code",
   "execution_count": 40,
   "id": "1581e022",
   "metadata": {},
   "outputs": [
    {
     "data": {
      "text/plain": [
       "10"
      ]
     },
     "execution_count": 40,
     "metadata": {},
     "output_type": "execute_result"
    }
   ],
   "source": [
    "myList[0]"
   ]
  },
  {
   "cell_type": "raw",
   "id": "bf5bc55f",
   "metadata": {},
   "source": [
    "mutable-mutaabilty : değiştirelibilir"
   ]
  },
  {
   "cell_type": "code",
   "execution_count": 41,
   "id": "9a70cadd",
   "metadata": {},
   "outputs": [
    {
     "name": "stdout",
     "output_type": "stream",
     "text": [
      "[100, 20, 30]\n"
     ]
    }
   ],
   "source": [
    "myList[0] = 100\n",
    "print(myList)"
   ]
  },
  {
   "cell_type": "code",
   "execution_count": 42,
   "id": "5404c381",
   "metadata": {},
   "outputs": [
    {
     "data": {
      "text/plain": [
       "3"
      ]
     },
     "execution_count": 42,
     "metadata": {},
     "output_type": "execute_result"
    }
   ],
   "source": [
    "len(myList)"
   ]
  },
  {
   "cell_type": "code",
   "execution_count": 43,
   "id": "ee837d64",
   "metadata": {},
   "outputs": [
    {
     "data": {
      "text/plain": [
       "30"
      ]
     },
     "execution_count": 43,
     "metadata": {},
     "output_type": "execute_result"
    }
   ],
   "source": [
    "myList[len(myList)-1]\n",
    "myList[-1]"
   ]
  },
  {
   "cell_type": "raw",
   "id": "2d2cdc25",
   "metadata": {},
   "source": [
    "listenin sonuna verilen değeri yazmak için"
   ]
  },
  {
   "cell_type": "code",
   "execution_count": 44,
   "id": "2d7e4f6b",
   "metadata": {},
   "outputs": [
    {
     "data": {
      "text/plain": [
       "[100, 20, 30, 40]"
      ]
     },
     "execution_count": 44,
     "metadata": {},
     "output_type": "execute_result"
    }
   ],
   "source": [
    "myList.append(40) #append:eklemek\n",
    "myList"
   ]
  },
  {
   "cell_type": "raw",
   "id": "5b11301e",
   "metadata": {},
   "source": [
    "verilen sayı liste içinde kaç tane geçtiğini görmek için"
   ]
  },
  {
   "cell_type": "code",
   "execution_count": 45,
   "id": "943da756",
   "metadata": {},
   "outputs": [
    {
     "data": {
      "text/plain": [
       "1"
      ]
     },
     "execution_count": 45,
     "metadata": {},
     "output_type": "execute_result"
    }
   ],
   "source": [
    "myList.count(20) #count:saymak"
   ]
  },
  {
   "cell_type": "raw",
   "id": "23c00ea8",
   "metadata": {},
   "source": [
    "verilen değer listede ilk kaçıncı indexde görüldüğünü görmek için :"
   ]
  },
  {
   "cell_type": "code",
   "execution_count": 46,
   "id": "ca105977",
   "metadata": {},
   "outputs": [
    {
     "data": {
      "text/plain": [
       "2"
      ]
     },
     "execution_count": 46,
     "metadata": {},
     "output_type": "execute_result"
    }
   ],
   "source": [
    "myList.index(30) #index:dizin"
   ]
  },
  {
   "cell_type": "raw",
   "id": "32659e63",
   "metadata": {},
   "source": [
    "listeye veri eklemek için \n",
    "(a,b)\n",
    "a : kaçıncı index\n",
    "b : hangi sayı"
   ]
  },
  {
   "cell_type": "code",
   "execution_count": 47,
   "id": "e62cfd7e",
   "metadata": {},
   "outputs": [
    {
     "data": {
      "text/plain": [
       "[100, 20, 25, 30, 40]"
      ]
     },
     "execution_count": 47,
     "metadata": {},
     "output_type": "execute_result"
    }
   ],
   "source": [
    "myList.insert(2,25) #insert:eklemek\n",
    "myList"
   ]
  },
  {
   "cell_type": "raw",
   "id": "2b040d72",
   "metadata": {},
   "source": [
    "listenin sonuncu elemanını silmek için :"
   ]
  },
  {
   "cell_type": "code",
   "execution_count": 48,
   "id": "e4e3ffb2",
   "metadata": {},
   "outputs": [
    {
     "data": {
      "text/plain": [
       "40"
      ]
     },
     "execution_count": 48,
     "metadata": {},
     "output_type": "execute_result"
    }
   ],
   "source": [
    "myList.pop() #pop:pat diye"
   ]
  },
  {
   "cell_type": "raw",
   "id": "5a3eb466",
   "metadata": {},
   "source": [
    "listede istediğimiz bir elemanı silmek için :"
   ]
  },
  {
   "cell_type": "code",
   "execution_count": 49,
   "id": "79358658",
   "metadata": {},
   "outputs": [
    {
     "data": {
      "text/plain": [
       "[20, 25, 30]"
      ]
     },
     "execution_count": 49,
     "metadata": {},
     "output_type": "execute_result"
    }
   ],
   "source": [
    "myList.remove(100) #remove:kaldırmak\n",
    "myList"
   ]
  },
  {
   "cell_type": "raw",
   "id": "afa19625",
   "metadata": {},
   "source": [
    "listeyi tersine çevirmek için :"
   ]
  },
  {
   "cell_type": "code",
   "execution_count": 50,
   "id": "89f04275",
   "metadata": {},
   "outputs": [
    {
     "data": {
      "text/plain": [
       "[30, 25, 20]"
      ]
     },
     "execution_count": 50,
     "metadata": {},
     "output_type": "execute_result"
    }
   ],
   "source": [
    "myList.reverse() #reverse:tersi\n",
    "myList"
   ]
  },
  {
   "cell_type": "raw",
   "id": "f4b8287d",
   "metadata": {},
   "source": [
    "listeyi küçükten büyüğe sıralar :"
   ]
  },
  {
   "cell_type": "code",
   "execution_count": 51,
   "id": "7a66941f",
   "metadata": {},
   "outputs": [
    {
     "data": {
      "text/plain": [
       "[20, 25, 30]"
      ]
     },
     "execution_count": 51,
     "metadata": {},
     "output_type": "execute_result"
    }
   ],
   "source": [
    "myList.sort() #sort:sınıflandırmak\n",
    "myList"
   ]
  },
  {
   "cell_type": "code",
   "execution_count": 52,
   "id": "150ebc27",
   "metadata": {},
   "outputs": [
    {
     "name": "stdin",
     "output_type": "stream",
     "text": [
      "enter x: 33\n"
     ]
    }
   ],
   "source": [
    "x = input(\"enter x:\")"
   ]
  },
  {
   "cell_type": "code",
   "execution_count": 53,
   "id": "06f7901d",
   "metadata": {},
   "outputs": [
    {
     "name": "stdin",
     "output_type": "stream",
     "text": [
      "enter y: 4\n"
     ]
    }
   ],
   "source": [
    "y = input(\"enter y:\")"
   ]
  },
  {
   "cell_type": "code",
   "execution_count": 54,
   "id": "a98c7ea9",
   "metadata": {},
   "outputs": [
    {
     "name": "stdin",
     "output_type": "stream",
     "text": [
      "enter z: 67\n"
     ]
    }
   ],
   "source": [
    "z = input(\"enter z:\")"
   ]
  },
  {
   "cell_type": "code",
   "execution_count": 55,
   "id": "d6f2d6a6",
   "metadata": {},
   "outputs": [
    {
     "data": {
      "text/plain": [
       "str"
      ]
     },
     "execution_count": 55,
     "metadata": {},
     "output_type": "execute_result"
    }
   ],
   "source": [
    "type(x)"
   ]
  },
  {
   "cell_type": "raw",
   "id": "50456aaf",
   "metadata": {},
   "source": [
    "boş liste oluşturmak için :"
   ]
  },
  {
   "cell_type": "code",
   "execution_count": 56,
   "id": "476950ac",
   "metadata": {},
   "outputs": [],
   "source": [
    "inputList = []"
   ]
  },
  {
   "cell_type": "code",
   "execution_count": 57,
   "id": "08505f75",
   "metadata": {},
   "outputs": [
    {
     "data": {
      "text/plain": [
       "['33', '4', '67']"
      ]
     },
     "execution_count": 57,
     "metadata": {},
     "output_type": "execute_result"
    }
   ],
   "source": [
    "inputList.append(x)\n",
    "inputList.append(y) \n",
    "inputList.append(z)\n",
    "inputList"
   ]
  },
  {
   "cell_type": "code",
   "execution_count": 58,
   "id": "68f59c6e",
   "metadata": {},
   "outputs": [
    {
     "data": {
      "text/plain": [
       "'44'"
      ]
     },
     "execution_count": 58,
     "metadata": {},
     "output_type": "execute_result"
    }
   ],
   "source": [
    "inputList[1]*2"
   ]
  },
  {
   "cell_type": "code",
   "execution_count": 59,
   "id": "5d0456fd",
   "metadata": {},
   "outputs": [
    {
     "data": {
      "text/plain": [
       "8"
      ]
     },
     "execution_count": 59,
     "metadata": {},
     "output_type": "execute_result"
    }
   ],
   "source": [
    "int(inputList[1])*2"
   ]
  },
  {
   "cell_type": "raw",
   "id": "1297a25a",
   "metadata": {},
   "source": [
    "iki listeyi birleştirmek için :"
   ]
  },
  {
   "cell_type": "code",
   "execution_count": 60,
   "id": "34e4a35d",
   "metadata": {},
   "outputs": [],
   "source": [
    "list1 = [10,20,30]\n",
    "list2 = [40,50,60,30]"
   ]
  },
  {
   "cell_type": "code",
   "execution_count": 61,
   "id": "c13bc74e",
   "metadata": {},
   "outputs": [
    {
     "data": {
      "text/plain": [
       "[10, 20, 30, 40, 50, 60, 30]"
      ]
     },
     "execution_count": 61,
     "metadata": {},
     "output_type": "execute_result"
    }
   ],
   "source": [
    "list1 + list2"
   ]
  },
  {
   "cell_type": "raw",
   "id": "6d8e748d",
   "metadata": {},
   "source": [
    "nestedlist : iç içe geçmiş listeler "
   ]
  },
  {
   "cell_type": "code",
   "execution_count": 62,
   "id": "036fbdac",
   "metadata": {},
   "outputs": [],
   "source": [
    "myNestedList = [ 45,60,3.14,[\"a\",\"b\",3]]"
   ]
  },
  {
   "cell_type": "code",
   "execution_count": 63,
   "id": "849cd70e",
   "metadata": {},
   "outputs": [
    {
     "data": {
      "text/plain": [
       "'b'"
      ]
     },
     "execution_count": 63,
     "metadata": {},
     "output_type": "execute_result"
    }
   ],
   "source": [
    "myNestedList[3][1]"
   ]
  },
  {
   "cell_type": "code",
   "execution_count": 64,
   "id": "5cc7df15",
   "metadata": {},
   "outputs": [],
   "source": [
    "list3 =  [10,20,30,40,50,60,70]"
   ]
  },
  {
   "cell_type": "code",
   "execution_count": 65,
   "id": "2830be48",
   "metadata": {},
   "outputs": [
    {
     "data": {
      "text/plain": [
       "[20, 40, 60]"
      ]
     },
     "execution_count": 65,
     "metadata": {},
     "output_type": "execute_result"
    }
   ],
   "source": [
    "list3[1:6:2]"
   ]
  },
  {
   "cell_type": "markdown",
   "id": "2e83fe8d",
   "metadata": {},
   "source": [
    "# Dictionary"
   ]
  },
  {
   "cell_type": "raw",
   "id": "589dec76",
   "metadata": {},
   "source": [
    "key-value paring : anahtar değer eşleşmesi"
   ]
  },
  {
   "cell_type": "code",
   "execution_count": 66,
   "id": "f6f1e506",
   "metadata": {},
   "outputs": [
    {
     "data": {
      "text/plain": [
       "{'banana': 100, 'apple': 150}"
      ]
     },
     "execution_count": 66,
     "metadata": {},
     "output_type": "execute_result"
    }
   ],
   "source": [
    "fruitDictionary = {\"banana\":100, \"apple\":150}\n",
    "fruitDictionary"
   ]
  },
  {
   "cell_type": "raw",
   "id": "4b671da8",
   "metadata": {},
   "source": [
    "sadece anahtarları görmek için"
   ]
  },
  {
   "cell_type": "code",
   "execution_count": 67,
   "id": "b4a62084",
   "metadata": {},
   "outputs": [
    {
     "data": {
      "text/plain": [
       "dict_keys(['banana', 'apple'])"
      ]
     },
     "execution_count": 67,
     "metadata": {},
     "output_type": "execute_result"
    }
   ],
   "source": [
    "fruitDictionary.keys()"
   ]
  },
  {
   "cell_type": "raw",
   "id": "82d812eb",
   "metadata": {},
   "source": [
    "sadece değerleri görmek için"
   ]
  },
  {
   "cell_type": "code",
   "execution_count": 68,
   "id": "1c1adf86",
   "metadata": {},
   "outputs": [
    {
     "data": {
      "text/plain": [
       "dict_values([100, 150])"
      ]
     },
     "execution_count": 68,
     "metadata": {},
     "output_type": "execute_result"
    }
   ],
   "source": [
    "fruitDictionary.values()"
   ]
  },
  {
   "cell_type": "code",
   "execution_count": 69,
   "id": "4b74d97a",
   "metadata": {},
   "outputs": [
    {
     "data": {
      "text/plain": [
       "dict_values"
      ]
     },
     "execution_count": 69,
     "metadata": {},
     "output_type": "execute_result"
    }
   ],
   "source": [
    "type(fruitDictionary.values())"
   ]
  },
  {
   "cell_type": "code",
   "execution_count": 70,
   "id": "f1d1c702",
   "metadata": {},
   "outputs": [
    {
     "data": {
      "text/plain": [
       "['banana', 'apple']"
      ]
     },
     "execution_count": 70,
     "metadata": {},
     "output_type": "execute_result"
    }
   ],
   "source": [
    "list(fruitDictionary.keys())"
   ]
  },
  {
   "cell_type": "raw",
   "id": "c82eb556",
   "metadata": {},
   "source": [
    "mutable değiştirilebilir"
   ]
  },
  {
   "cell_type": "code",
   "execution_count": 71,
   "id": "e4b57097",
   "metadata": {},
   "outputs": [
    {
     "data": {
      "text/plain": [
       "{'banana': 200, 'apple': 150}"
      ]
     },
     "execution_count": 71,
     "metadata": {},
     "output_type": "execute_result"
    }
   ],
   "source": [
    "fruitDictionary[\"banana\"] = 200\n",
    "fruitDictionary"
   ]
  },
  {
   "cell_type": "code",
   "execution_count": 72,
   "id": "3e457d22",
   "metadata": {},
   "outputs": [
    {
     "data": {
      "text/plain": [
       "{'banana': 200, 'apple': 150, 'melon': 300}"
      ]
     },
     "execution_count": 72,
     "metadata": {},
     "output_type": "execute_result"
    }
   ],
   "source": [
    "fruitDictionary[\"melon\"] = 300\n",
    "fruitDictionary"
   ]
  },
  {
   "cell_type": "raw",
   "id": "1225bfc2",
   "metadata": {},
   "source": [
    "fruitDictionary[“appl”] kodu çalışmaz uygulama çöker onun için önlem almak gerekir."
   ]
  },
  {
   "cell_type": "code",
   "execution_count": 73,
   "id": "71e1b604",
   "metadata": {},
   "outputs": [
    {
     "data": {
      "text/plain": [
       "0"
      ]
     },
     "execution_count": 73,
     "metadata": {},
     "output_type": "execute_result"
    }
   ],
   "source": [
    "fruitDictionary.get(\"appl\",0) #get:almak"
   ]
  },
  {
   "cell_type": "code",
   "execution_count": 74,
   "id": "e63c7168",
   "metadata": {},
   "outputs": [
    {
     "data": {
      "text/plain": [
       "300"
      ]
     },
     "execution_count": 74,
     "metadata": {},
     "output_type": "execute_result"
    }
   ],
   "source": [
    "fruitDictionary.get(\"melon\",0)"
   ]
  },
  {
   "cell_type": "raw",
   "id": "c511a40f",
   "metadata": {},
   "source": [
    "farklı veri tiplerinden oluşabilir"
   ]
  },
  {
   "cell_type": "code",
   "execution_count": 75,
   "id": "c6aa8287",
   "metadata": {},
   "outputs": [],
   "source": [
    "my_mixed_dictionary = {\"key1\":100 , \"key2\":\"maria\" , \"key3\":3.14 , \"key4\":[10,20,30]}"
   ]
  },
  {
   "cell_type": "code",
   "execution_count": 76,
   "id": "cbf58244",
   "metadata": {},
   "outputs": [
    {
     "data": {
      "text/plain": [
       "20"
      ]
     },
     "execution_count": 76,
     "metadata": {},
     "output_type": "execute_result"
    }
   ],
   "source": [
    "my_mixed_dictionary[\"key4\"][1]"
   ]
  },
  {
   "cell_type": "raw",
   "id": "4955e4d9",
   "metadata": {},
   "source": [
    "boş sözlük oluşturmak için"
   ]
  },
  {
   "cell_type": "code",
   "execution_count": 77,
   "id": "dee34e59",
   "metadata": {},
   "outputs": [],
   "source": [
    "emptyDictionary = dict()\n",
    "emptyDictionary = {}"
   ]
  },
  {
   "cell_type": "markdown",
   "id": "9db314d1",
   "metadata": {},
   "source": [
    "# Sets"
   ]
  },
  {
   "cell_type": "raw",
   "id": "e37b6201",
   "metadata": {},
   "source": [
    "liste içinde her elemandan bir tane olabilir\n",
    "sırası önemli değildir\n",
    "index yoktur\n",
    "unique : tekil elemanlar\n",
    "unordered : sırasız "
   ]
  },
  {
   "cell_type": "code",
   "execution_count": 78,
   "id": "482956f6",
   "metadata": {},
   "outputs": [
    {
     "data": {
      "text/plain": [
       "{10, 20, 30, 40}"
      ]
     },
     "execution_count": 78,
     "metadata": {},
     "output_type": "execute_result"
    }
   ],
   "source": [
    "mySet1 = {10,20,30,10,20,40,10,20,40}\n",
    "mySet1"
   ]
  },
  {
   "cell_type": "raw",
   "id": "3aab2103",
   "metadata": {},
   "source": [
    "eleman eklemek için "
   ]
  },
  {
   "cell_type": "code",
   "execution_count": 79,
   "id": "64eb8aa4",
   "metadata": {},
   "outputs": [
    {
     "data": {
      "text/plain": [
       "{10, 20, 30, 40, 50}"
      ]
     },
     "execution_count": 79,
     "metadata": {},
     "output_type": "execute_result"
    }
   ],
   "source": [
    "mySet1.add(50)\n",
    "mySet1"
   ]
  },
  {
   "cell_type": "code",
   "execution_count": 80,
   "id": "6d40a4e2",
   "metadata": {},
   "outputs": [],
   "source": [
    "mySet2 = {30,40,50,60}"
   ]
  },
  {
   "cell_type": "raw",
   "id": "46cb2d7d",
   "metadata": {},
   "source": [
    "iki setin birleşimini almak için"
   ]
  },
  {
   "cell_type": "code",
   "execution_count": 81,
   "id": "eda91ea9",
   "metadata": {},
   "outputs": [
    {
     "data": {
      "text/plain": [
       "{10, 20, 30, 40, 50, 60}"
      ]
     },
     "execution_count": 81,
     "metadata": {},
     "output_type": "execute_result"
    }
   ],
   "source": [
    "mySet1.union(mySet2) #union:birleşim,birlik"
   ]
  },
  {
   "cell_type": "raw",
   "id": "0822a34a",
   "metadata": {},
   "source": [
    "iki setin kesişimini almak için"
   ]
  },
  {
   "cell_type": "code",
   "execution_count": 82,
   "id": "bc80a902",
   "metadata": {},
   "outputs": [
    {
     "data": {
      "text/plain": [
       "{30, 40, 50}"
      ]
     },
     "execution_count": 82,
     "metadata": {},
     "output_type": "execute_result"
    }
   ],
   "source": [
    "mySet1.intersection(mySet2) #intersection:kesişim"
   ]
  },
  {
   "cell_type": "raw",
   "id": "3506373d",
   "metadata": {},
   "source": [
    "boş set oluşturmak için"
   ]
  },
  {
   "cell_type": "code",
   "execution_count": 83,
   "id": "ec3061bd",
   "metadata": {},
   "outputs": [
    {
     "data": {
      "text/plain": [
       "set"
      ]
     },
     "execution_count": 83,
     "metadata": {},
     "output_type": "execute_result"
    }
   ],
   "source": [
    "emptySet = set()\n",
    "type(emptySet)"
   ]
  },
  {
   "cell_type": "markdown",
   "id": "27066419",
   "metadata": {},
   "source": [
    "# Tuples"
   ]
  },
  {
   "cell_type": "raw",
   "id": "59dbee61",
   "metadata": {},
   "source": [
    "tuples değiştirilemeyen listedir"
   ]
  },
  {
   "cell_type": "code",
   "execution_count": 84,
   "id": "b8c690a2",
   "metadata": {},
   "outputs": [],
   "source": [
    "myTuple = (10,\"a\",\"b\",3.14)"
   ]
  },
  {
   "cell_type": "code",
   "execution_count": 85,
   "id": "b647bddf",
   "metadata": {},
   "outputs": [
    {
     "data": {
      "text/plain": [
       "tuple"
      ]
     },
     "execution_count": 85,
     "metadata": {},
     "output_type": "execute_result"
    }
   ],
   "source": [
    "type(myTuple)"
   ]
  },
  {
   "cell_type": "code",
   "execution_count": 86,
   "id": "a068acb1",
   "metadata": {},
   "outputs": [
    {
     "data": {
      "text/plain": [
       "10"
      ]
     },
     "execution_count": 86,
     "metadata": {},
     "output_type": "execute_result"
    }
   ],
   "source": [
    "myTuple[0]"
   ]
  },
  {
   "cell_type": "raw",
   "id": "496415f9",
   "metadata": {},
   "source": [
    "verilen değeri ilk olarak kaçıncı indexte olduğunu görmek için"
   ]
  },
  {
   "cell_type": "code",
   "execution_count": 87,
   "id": "53b6be5a",
   "metadata": {},
   "outputs": [
    {
     "data": {
      "text/plain": [
       "1"
      ]
     },
     "execution_count": 87,
     "metadata": {},
     "output_type": "execute_result"
    }
   ],
   "source": [
    "myTuple.index(\"a\")"
   ]
  },
  {
   "cell_type": "raw",
   "id": "72ae3745",
   "metadata": {},
   "source": [
    "verilen değerden kaç tane olduğunu saymak için"
   ]
  },
  {
   "cell_type": "code",
   "execution_count": 88,
   "id": "9f2d0df2",
   "metadata": {},
   "outputs": [
    {
     "data": {
      "text/plain": [
       "1"
      ]
     },
     "execution_count": 88,
     "metadata": {},
     "output_type": "execute_result"
    }
   ],
   "source": [
    "myTuple.count(\"a\")"
   ]
  },
  {
   "cell_type": "raw",
   "id": "8c8cba2a",
   "metadata": {},
   "source": [
    "myTuple[1] = 100 çalışmaz tuple immutabilitydir çözümü için listeye çevirmek gerekir"
   ]
  },
  {
   "cell_type": "code",
   "execution_count": 89,
   "id": "3134a37a",
   "metadata": {},
   "outputs": [
    {
     "data": {
      "text/plain": [
       "[10, 'a', 'b', 3.14]"
      ]
     },
     "execution_count": 89,
     "metadata": {},
     "output_type": "execute_result"
    }
   ],
   "source": [
    "listt = list(myTuple)\n",
    "listt"
   ]
  }
 ],
 "metadata": {
  "kernelspec": {
   "display_name": "Python 3 (ipykernel)",
   "language": "python",
   "name": "python3"
  },
  "language_info": {
   "codemirror_mode": {
    "name": "ipython",
    "version": 3
   },
   "file_extension": ".py",
   "mimetype": "text/x-python",
   "name": "python",
   "nbconvert_exporter": "python",
   "pygments_lexer": "ipython3",
   "version": "3.12.4"
  }
 },
 "nbformat": 4,
 "nbformat_minor": 5
}
