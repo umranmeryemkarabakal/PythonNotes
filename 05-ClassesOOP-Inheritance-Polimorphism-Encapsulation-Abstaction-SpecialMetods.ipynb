{
 "cells": [
  {
   "cell_type": "markdown",
   "id": "6c6b2146",
   "metadata": {},
   "source": [
    "# Classes OOP"
   ]
  },
  {
   "cell_type": "code",
   "execution_count": 1,
   "id": "8c32a7b5",
   "metadata": {},
   "outputs": [],
   "source": [
    "class Person():#baş harfi büyük yazılır fonksiyon veya methodla karışmamalıdır\n",
    "    #propety: özellik\n",
    "    #bazı dillerde zorunlu phytonda yazmak zorunlu değil\n",
    "    name = \"\"\n",
    "    age = \"\"\n",
    "    gender = \"\"\n",
    "    job  = \"enginer\"\n",
    "    country = \"\"\n",
    "    education = \"\"\n",
    "    num = 5\n",
    "    \n",
    "    \n",
    "   #ilk çalıştırılan fonksiyon initilializer method\n",
    "    #özel fonksiyondur aslında sınıfın altındaki fonksiyonlara method denir\n",
    "    def __init__(self,name,age,gender,education=\"graduate\"): #parantez içi verilmesi zorunlu parametrelerdir\n",
    "        #intializer method:ilk oluşturmmak değerini atamak\n",
    "        #bu sınıftan bir obje oluşturulduğunda buradaki fonksiyon çalışır \n",
    "        #name,age,gendere vermek zorunludur -parantez içine yazıldığında-\n",
    "        self.name = name\n",
    "        self.age = age\n",
    "        self.gender = gender\n",
    "        self.education = education\n",
    "        #selfi başa alınca değeri kaydeder\n",
    "        #1.name class daki 2.name def deki\n",
    "        print(\"init executed\") #her bir yeni obje oluşturulduğunda yazılır\n",
    "        self.num = age*self.num\n",
    "        \n",
    "    def PrintName(self): #self:kendisi:self yazmak zorunludur\n",
    "        print(self.name) #sadece name yazarsak çalışmaz çünkü tanımlı değildir\n",
    "        return self.age * Person.num #Person.num = self.num\n",
    "                "
   ]
  },
  {
   "cell_type": "code",
   "execution_count": 2,
   "id": "6d66df55",
   "metadata": {},
   "outputs": [],
   "source": [
    "myList = list()"
   ]
  },
  {
   "cell_type": "code",
   "execution_count": 3,
   "id": "81011d32",
   "metadata": {},
   "outputs": [
    {
     "data": {
      "text/plain": [
       "list"
      ]
     },
     "execution_count": 3,
     "metadata": {},
     "output_type": "execute_result"
    }
   ],
   "source": [
    "type(myList)"
   ]
  },
  {
   "cell_type": "code",
   "execution_count": 4,
   "id": "aef6d652",
   "metadata": {},
   "outputs": [
    {
     "name": "stdout",
     "output_type": "stream",
     "text": [
      "init executed\n"
     ]
    }
   ],
   "source": [
    "meryem = Person(\"meryem\",17,\"student\")"
   ]
  },
  {
   "cell_type": "code",
   "execution_count": 5,
   "id": "09a99773",
   "metadata": {},
   "outputs": [
    {
     "data": {
      "text/plain": [
       "__main__.Person"
      ]
     },
     "execution_count": 5,
     "metadata": {},
     "output_type": "execute_result"
    }
   ],
   "source": [
    "type(meryem)"
   ]
  },
  {
   "cell_type": "code",
   "execution_count": 6,
   "id": "26e04895",
   "metadata": {},
   "outputs": [],
   "source": [
    "meryem.country =\"turkey\""
   ]
  },
  {
   "cell_type": "code",
   "execution_count": 7,
   "id": "8381bede",
   "metadata": {},
   "outputs": [
    {
     "data": {
      "text/plain": [
       "'turkey'"
      ]
     },
     "execution_count": 7,
     "metadata": {},
     "output_type": "execute_result"
    }
   ],
   "source": [
    "meryem.country"
   ]
  },
  {
   "cell_type": "code",
   "execution_count": 8,
   "id": "97f3c24d",
   "metadata": {},
   "outputs": [
    {
     "data": {
      "text/plain": [
       "17"
      ]
     },
     "execution_count": 8,
     "metadata": {},
     "output_type": "execute_result"
    }
   ],
   "source": [
    "meryem.age"
   ]
  },
  {
   "cell_type": "code",
   "execution_count": 9,
   "id": "8561d5d0",
   "metadata": {},
   "outputs": [
    {
     "data": {
      "text/plain": [
       "'enginer'"
      ]
     },
     "execution_count": 9,
     "metadata": {},
     "output_type": "execute_result"
    }
   ],
   "source": [
    "meryem.job"
   ]
  },
  {
   "cell_type": "code",
   "execution_count": 10,
   "id": "dcf117b4",
   "metadata": {},
   "outputs": [
    {
     "data": {
      "text/plain": [
       "'graduate'"
      ]
     },
     "execution_count": 10,
     "metadata": {},
     "output_type": "execute_result"
    }
   ],
   "source": [
    "meryem.education"
   ]
  },
  {
   "cell_type": "code",
   "execution_count": 11,
   "id": "b6e4ba1f",
   "metadata": {},
   "outputs": [
    {
     "data": {
      "text/plain": [
       "85"
      ]
     },
     "execution_count": 11,
     "metadata": {},
     "output_type": "execute_result"
    }
   ],
   "source": [
    "meryem.num"
   ]
  },
  {
   "cell_type": "code",
   "execution_count": 12,
   "id": "55fce656",
   "metadata": {},
   "outputs": [
    {
     "name": "stdout",
     "output_type": "stream",
     "text": [
      "meryem\n"
     ]
    },
    {
     "data": {
      "text/plain": [
       "85"
      ]
     },
     "execution_count": 12,
     "metadata": {},
     "output_type": "execute_result"
    }
   ],
   "source": [
    "meryem.PrintName()"
   ]
  },
  {
   "cell_type": "markdown",
   "id": "cd8f46ad",
   "metadata": {},
   "source": [
    "# OOP\n",
    "    inheritance, polymorphisim, abstraction, encapsulation\n",
    "    kalıtım,     polimorfizm,   soyutlama,   kapsülleme"
   ]
  },
  {
   "cell_type": "markdown",
   "id": "3cdd199e",
   "metadata": {},
   "source": [
    "# Inheritance\n",
    "kalıtım almak"
   ]
  },
  {
   "cell_type": "code",
   "execution_count": 13,
   "id": "4aace52e",
   "metadata": {},
   "outputs": [],
   "source": [
    "class Musician():\n",
    "    \n",
    "    def __init__(self,name):\n",
    "        self.name = name #property \n",
    "        print (\"musician classs\")\n",
    "        \n",
    "    def test1(self):\n",
    "        print(\"test1\")\n",
    "        \n",
    "    def test2(self):\n",
    "        print(\"test2\")"
   ]
  },
  {
   "cell_type": "code",
   "execution_count": 14,
   "id": "02806d7e",
   "metadata": {},
   "outputs": [
    {
     "name": "stdout",
     "output_type": "stream",
     "text": [
      "musician classs\n"
     ]
    },
    {
     "data": {
      "text/plain": [
       "'metallica'"
      ]
     },
     "execution_count": 14,
     "metadata": {},
     "output_type": "execute_result"
    }
   ],
   "source": [
    "grup = Musician(\"metallica\")\n",
    "grup.name"
   ]
  },
  {
   "cell_type": "code",
   "execution_count": 15,
   "id": "627c8cc6",
   "metadata": {},
   "outputs": [
    {
     "name": "stdout",
     "output_type": "stream",
     "text": [
      "test1\n"
     ]
    }
   ],
   "source": [
    "grup.test1()"
   ]
  },
  {
   "cell_type": "code",
   "execution_count": 16,
   "id": "e28d53c3",
   "metadata": {},
   "outputs": [
    {
     "name": "stdout",
     "output_type": "stream",
     "text": [
      "test2\n"
     ]
    }
   ],
   "source": [
    "grup.test2()"
   ]
  },
  {
   "cell_type": "code",
   "execution_count": 17,
   "id": "73befa17",
   "metadata": {},
   "outputs": [],
   "source": [
    "class MusicianPlus(Musician): #parantaz içi kalıtım alacağımız sınıf\n",
    "    \n",
    "    def __init__(self,name):\n",
    "        Musician.__init__(self,name) #musician'ı çalıştırıyoruz\n",
    "        #parantez içine propertylerini de yazmalıyız\n",
    "        print(\"musicisn plus\")\n",
    "        \n",
    "    def test3(self):\n",
    "        print(\"test3\")\n",
    "        \n",
    "    #ovirride:üstüne yazmak\n",
    "    def test1(self):\n",
    "        print(\"test1 test1 test1\")\n",
    "    #test1 i değiştirebiliriz"
   ]
  },
  {
   "cell_type": "code",
   "execution_count": 18,
   "id": "7ca04af3",
   "metadata": {},
   "outputs": [
    {
     "name": "stdout",
     "output_type": "stream",
     "text": [
      "musician classs\n",
      "musicisn plus\n"
     ]
    }
   ],
   "source": [
    "umran = MusicianPlus(\"umran\")"
   ]
  },
  {
   "cell_type": "code",
   "execution_count": 20,
   "id": "c1b4aa4f",
   "metadata": {},
   "outputs": [
    {
     "name": "stdout",
     "output_type": "stream",
     "text": [
      "test1 test1 test1\n"
     ]
    }
   ],
   "source": [
    "umran.test1()"
   ]
  },
  {
   "cell_type": "code",
   "execution_count": 21,
   "id": "02ba4ab9",
   "metadata": {},
   "outputs": [
    {
     "name": "stdout",
     "output_type": "stream",
     "text": [
      "test1\n"
     ]
    }
   ],
   "source": [
    "grup.test1()"
   ]
  },
  {
   "cell_type": "markdown",
   "id": "bae02a3d",
   "metadata": {},
   "source": [
    "# Polymorphism\n",
    "aynı isimle farklı işi yapmak"
   ]
  },
  {
   "cell_type": "code",
   "execution_count": 22,
   "id": "29f4b24e",
   "metadata": {},
   "outputs": [],
   "source": [
    "class Banana():\n",
    "    def __init__(self,name):\n",
    "        self.name = name\n",
    "        \n",
    "    def info(self): #bilgi verme metodu \n",
    "        return f\"100 calories {self.name}\" #f formatlı string\n",
    "    \n",
    "    \n",
    "class Apple():\n",
    "    def __init__(self,name):\n",
    "        self.name = name\n",
    "        \n",
    "    def info(self):\n",
    "        return f\"150 calories {self.name}\""
   ]
  },
  {
   "cell_type": "code",
   "execution_count": 23,
   "id": "2b2809b2",
   "metadata": {},
   "outputs": [],
   "source": [
    "banana = Banana(\"banana\")"
   ]
  },
  {
   "cell_type": "code",
   "execution_count": 24,
   "id": "c4f4920f",
   "metadata": {},
   "outputs": [],
   "source": [
    "apple = Apple(\"apple\")"
   ]
  },
  {
   "cell_type": "code",
   "execution_count": 25,
   "id": "e97b2c99",
   "metadata": {},
   "outputs": [
    {
     "data": {
      "text/plain": [
       "'100 calories banana'"
      ]
     },
     "execution_count": 25,
     "metadata": {},
     "output_type": "execute_result"
    }
   ],
   "source": [
    "banana.info()"
   ]
  },
  {
   "cell_type": "code",
   "execution_count": 26,
   "id": "0cbefe7c",
   "metadata": {},
   "outputs": [
    {
     "data": {
      "text/plain": [
       "'150 calories apple'"
      ]
     },
     "execution_count": 26,
     "metadata": {},
     "output_type": "execute_result"
    }
   ],
   "source": [
    "apple.info()"
   ]
  },
  {
   "cell_type": "code",
   "execution_count": 27,
   "id": "fbcfd854",
   "metadata": {},
   "outputs": [],
   "source": [
    "fruitList = [banana,apple]"
   ]
  },
  {
   "cell_type": "raw",
   "id": "c3e9c543",
   "metadata": {},
   "source": [
    "farklı işlemleri aynı isimde tek seferde çalıştırabilme"
   ]
  },
  {
   "cell_type": "code",
   "execution_count": 28,
   "id": "89f78ddc",
   "metadata": {},
   "outputs": [
    {
     "name": "stdout",
     "output_type": "stream",
     "text": [
      "100 calories banana\n",
      "150 calories apple\n"
     ]
    }
   ],
   "source": [
    "for fruit in fruitList:\n",
    "    print(fruit.info())"
   ]
  },
  {
   "cell_type": "markdown",
   "id": "10f83f1c",
   "metadata": {},
   "source": [
    "# Encapsulation\n",
    "   hapsetmek"
   ]
  },
  {
   "cell_type": "raw",
   "id": "d7c0f900",
   "metadata": {},
   "source": [
    "değişkenlere erişilmesini istemiyorsam kullanırım"
   ]
  },
  {
   "cell_type": "code",
   "execution_count": 29,
   "id": "999dd61f",
   "metadata": {},
   "outputs": [],
   "source": [
    "class Phone():\n",
    "\n",
    "    def __init__(self,name,price):\n",
    "        self.name = name\n",
    "        self.__price = price #iki alt çizgiyle price sadece bu sınıfın içinden erişilebilir hale gelir\n",
    "        \n",
    "    def info(self):\n",
    "        print(f\"{self.name} price is: {self.__price}\")\n",
    "        \n",
    "    def changePrice(self,price):\n",
    "        self.__price = price"
   ]
  },
  {
   "cell_type": "code",
   "execution_count": 30,
   "id": "8a7ca71d",
   "metadata": {},
   "outputs": [],
   "source": [
    "iphone = Phone (\"iphone14\",500)"
   ]
  },
  {
   "cell_type": "code",
   "execution_count": 31,
   "id": "a102e241",
   "metadata": {},
   "outputs": [
    {
     "name": "stdout",
     "output_type": "stream",
     "text": [
      "iphone14 price is: 500\n"
     ]
    }
   ],
   "source": [
    "iphone.info()"
   ]
  },
  {
   "cell_type": "code",
   "execution_count": 32,
   "id": "b88e2b6e",
   "metadata": {},
   "outputs": [],
   "source": [
    "iphone.__price = 400\n",
    "iphone.price = 300"
   ]
  },
  {
   "cell_type": "code",
   "execution_count": 33,
   "id": "047fc026",
   "metadata": {},
   "outputs": [
    {
     "name": "stdout",
     "output_type": "stream",
     "text": [
      "iphone14 price is: 500\n"
     ]
    }
   ],
   "source": [
    "iphone.info()"
   ]
  },
  {
   "cell_type": "code",
   "execution_count": 34,
   "id": "a07aa4af",
   "metadata": {},
   "outputs": [],
   "source": [
    "iphone.changePrice(300)"
   ]
  },
  {
   "cell_type": "code",
   "execution_count": 35,
   "id": "468d7974",
   "metadata": {},
   "outputs": [
    {
     "name": "stdout",
     "output_type": "stream",
     "text": [
      "iphone14 price is: 300\n"
     ]
    }
   ],
   "source": [
    "iphone.info()"
   ]
  },
  {
   "cell_type": "markdown",
   "id": "cab2cffa",
   "metadata": {},
   "source": [
    "# Abstraction\n",
    " soyutlama"
   ]
  },
  {
   "cell_type": "raw",
   "id": "88d368c1",
   "metadata": {},
   "source": [
    "soyut bir sınıf oluşturmak obje oluşturup çalışma yapmak için değil bize plan yapmasını sağlamak için \n",
    "mimar bir oda çizer binanın bütün dairelerinin odaları aynı olur\n",
    "\n",
    "notion daki bloklar gibi\n",
    "\n",
    "pythonda direk abstraction yoktur"
   ]
  },
  {
   "cell_type": "code",
   "execution_count": 36,
   "id": "2819738b",
   "metadata": {},
   "outputs": [],
   "source": [
    "from abc import ABC, abstractmethod\n",
    "\n",
    "class Car(ABC):\n",
    "    \n",
    "    @abstractmethod\n",
    "    def maxSpeed(self): #self koymaya gerek yoktur ama koyulmalıdır\n",
    "        pass"
   ]
  },
  {
   "cell_type": "code",
   "execution_count": 37,
   "id": "303a9f65",
   "metadata": {},
   "outputs": [],
   "source": [
    "#myCar = Car() çalışmaz"
   ]
  },
  {
   "cell_type": "code",
   "execution_count": 38,
   "id": "18a75b3a",
   "metadata": {},
   "outputs": [],
   "source": [
    "class Tesla(Car):\n",
    "    \n",
    "    def maxSpeed(self):\n",
    "        print(\"200km/h\")"
   ]
  },
  {
   "cell_type": "code",
   "execution_count": 39,
   "id": "2bb4562e",
   "metadata": {},
   "outputs": [],
   "source": [
    "tesla = Tesla()"
   ]
  },
  {
   "cell_type": "code",
   "execution_count": 40,
   "id": "8ce2b9c3",
   "metadata": {},
   "outputs": [
    {
     "name": "stdout",
     "output_type": "stream",
     "text": [
      "200km/h\n"
     ]
    }
   ],
   "source": [
    "tesla.maxSpeed()"
   ]
  },
  {
   "cell_type": "code",
   "execution_count": 41,
   "id": "36787728",
   "metadata": {},
   "outputs": [],
   "source": [
    "class Togg(Car):\n",
    "    \n",
    "    def maxSpeed(self):\n",
    "        print(\"220km/h\")"
   ]
  },
  {
   "cell_type": "code",
   "execution_count": 42,
   "id": "17e0e018",
   "metadata": {},
   "outputs": [],
   "source": [
    "togg = Togg()"
   ]
  },
  {
   "cell_type": "code",
   "execution_count": 43,
   "id": "01b720ff",
   "metadata": {},
   "outputs": [
    {
     "name": "stdout",
     "output_type": "stream",
     "text": [
      "220km/h\n"
     ]
    }
   ],
   "source": [
    "togg.maxSpeed()"
   ]
  },
  {
   "cell_type": "markdown",
   "id": "0cf81e92",
   "metadata": {},
   "source": [
    "# Özel Metodlar"
   ]
  },
  {
   "cell_type": "code",
   "execution_count": 44,
   "id": "055f7367",
   "metadata": {},
   "outputs": [],
   "source": [
    "class Fruit():\n",
    "    \n",
    "    def __init__(self,name,calories):\n",
    "        self.name = name\n",
    "        self.calories = calories\n",
    "        \n",
    "    def __str__(self): #özel methoddur string\n",
    "        return f\"{self.name}: {self.calories} calories\" #return ettiği şeyi değiştiriyoruz \n",
    "    #phytonun kendi içinde tanımlı fonksiyonlarını değiştirmek için\n",
    "    \n",
    "    def __len__(self): #len i özel method ile değiştiriyoruz\n",
    "        return self.calories\n",
    "    \n",
    "    #phyton special methods list diye google da aratarak öğrenebiliriz"
   ]
  },
  {
   "cell_type": "code",
   "execution_count": 45,
   "id": "4badc294",
   "metadata": {},
   "outputs": [],
   "source": [
    "myFruit = Fruit (\"banana\",150)"
   ]
  },
  {
   "cell_type": "code",
   "execution_count": 46,
   "id": "a6c2dfeb",
   "metadata": {},
   "outputs": [
    {
     "data": {
      "text/plain": [
       "150"
      ]
     },
     "execution_count": 46,
     "metadata": {},
     "output_type": "execute_result"
    }
   ],
   "source": [
    "myFruit.calories"
   ]
  },
  {
   "cell_type": "code",
   "execution_count": 47,
   "id": "29de4fae",
   "metadata": {},
   "outputs": [
    {
     "data": {
      "text/plain": [
       "'banana'"
      ]
     },
     "execution_count": 47,
     "metadata": {},
     "output_type": "execute_result"
    }
   ],
   "source": [
    "myFruit.name"
   ]
  },
  {
   "cell_type": "code",
   "execution_count": 48,
   "id": "ff220337",
   "metadata": {},
   "outputs": [
    {
     "name": "stdout",
     "output_type": "stream",
     "text": [
      "banana: 150 calories\n"
     ]
    }
   ],
   "source": [
    "print (myFruit)"
   ]
  },
  {
   "cell_type": "code",
   "execution_count": 49,
   "id": "128dd476",
   "metadata": {},
   "outputs": [
    {
     "data": {
      "text/plain": [
       "150"
      ]
     },
     "execution_count": 49,
     "metadata": {},
     "output_type": "execute_result"
    }
   ],
   "source": [
    "len(myFruit)"
   ]
  },
  {
   "cell_type": "code",
   "execution_count": 50,
   "id": "685457f1",
   "metadata": {},
   "outputs": [],
   "source": [
    "class Train():\n",
    "    \n",
    "    def __init__(self,name):\n",
    "        self.name = name\n",
    "        \n",
    "    def __getitem__(self,key):\n",
    "        if key == \"a\":\n",
    "            return self.name\n",
    "        else:\n",
    "            return \"not found\"\n",
    "        return self.name"
   ]
  },
  {
   "cell_type": "code",
   "execution_count": 51,
   "id": "f7191627",
   "metadata": {},
   "outputs": [],
   "source": [
    "myTrain = Train (\"myTrain\")"
   ]
  },
  {
   "cell_type": "code",
   "execution_count": 52,
   "id": "e73e8d9e",
   "metadata": {},
   "outputs": [
    {
     "data": {
      "text/plain": [
       "'myTrain'"
      ]
     },
     "execution_count": 52,
     "metadata": {},
     "output_type": "execute_result"
    }
   ],
   "source": [
    "myTrain[\"a\"]"
   ]
  },
  {
   "cell_type": "code",
   "execution_count": null,
   "id": "e7f1b1a8",
   "metadata": {},
   "outputs": [],
   "source": []
  }
 ],
 "metadata": {
  "kernelspec": {
   "display_name": "Python 3 (ipykernel)",
   "language": "python",
   "name": "python3"
  },
  "language_info": {
   "codemirror_mode": {
    "name": "ipython",
    "version": 3
   },
   "file_extension": ".py",
   "mimetype": "text/x-python",
   "name": "python",
   "nbconvert_exporter": "python",
   "pygments_lexer": "ipython3",
   "version": "3.12.4"
  }
 },
 "nbformat": 4,
 "nbformat_minor": 5
}
